{
 "cells": [
  {
   "cell_type": "code",
   "execution_count": 1,
   "id": "a5b1364f",
   "metadata": {
    "code_folding": [
     0
    ]
   },
   "outputs": [
    {
     "data": {
      "text/html": [
       "<style>.container { width:100% !important; }</style>"
      ],
      "text/plain": [
       "<IPython.core.display.HTML object>"
      ]
     },
     "metadata": {},
     "output_type": "display_data"
    },
    {
     "data": {
      "text/html": [
       "<style>.output_result { max-width:100% !important; }</style>"
      ],
      "text/plain": [
       "<IPython.core.display.HTML object>"
      ]
     },
     "metadata": {},
     "output_type": "display_data"
    }
   ],
   "source": [
    "# Appearance adjustment\n",
    "from IPython.display import display, HTML\n",
    "display(HTML(\"<style>.container { width:100% !important; }</style>\"))\n",
    "display(HTML(\"<style>.output_result { max-width:100% !important; }</style>\"))"
   ]
  },
  {
   "cell_type": "code",
   "execution_count": 2,
   "id": "a977f8fc",
   "metadata": {
    "code_folding": [
     0
    ]
   },
   "outputs": [
    {
     "ename": "ModuleNotFoundError",
     "evalue": "No module named 'tools'",
     "output_type": "error",
     "traceback": [
      "\u001b[0;31m---------------------------------------------------------------------------\u001b[0m",
      "\u001b[0;31mModuleNotFoundError\u001b[0m                       Traceback (most recent call last)",
      "\u001b[1;32m/Users/lj/Library/Mobile Documents/com~apple~CloudDocs/Developer/microbolometer_design/scripts/pipeline_demo_noise.ipynb Cell 2\u001b[0m line \u001b[0;36m1\n\u001b[1;32m     <a href='vscode-notebook-cell:/Users/lj/Library/Mobile%20Documents/com~apple~CloudDocs/Developer/microbolometer_design/scripts/pipeline_demo_noise.ipynb#W1sZmlsZQ%3D%3D?line=10'>11</a>\u001b[0m \u001b[39mfrom\u001b[39;00m \u001b[39mtorch\u001b[39;00m\u001b[39m.\u001b[39;00m\u001b[39mutils\u001b[39;00m\u001b[39m.\u001b[39;00m\u001b[39mdata\u001b[39;00m \u001b[39mimport\u001b[39;00m DataLoader, SubsetRandomSampler\n\u001b[1;32m     <a href='vscode-notebook-cell:/Users/lj/Library/Mobile%20Documents/com~apple~CloudDocs/Developer/microbolometer_design/scripts/pipeline_demo_noise.ipynb#W1sZmlsZQ%3D%3D?line=11'>12</a>\u001b[0m \u001b[39mfrom\u001b[39;00m \u001b[39mtqdm\u001b[39;00m\u001b[39m.\u001b[39;00m\u001b[39mnotebook\u001b[39;00m \u001b[39mimport\u001b[39;00m tqdm\n\u001b[0;32m---> <a href='vscode-notebook-cell:/Users/lj/Library/Mobile%20Documents/com~apple~CloudDocs/Developer/microbolometer_design/scripts/pipeline_demo_noise.ipynb#W1sZmlsZQ%3D%3D?line=13'>14</a>\u001b[0m \u001b[39mfrom\u001b[39;00m \u001b[39mtools\u001b[39;00m \u001b[39mimport\u001b[39;00m ballsINTObins, RMSELoss, train_epoch, valid_epoch, test_epoch, simulator\n",
      "\u001b[0;31mModuleNotFoundError\u001b[0m: No module named 'tools'"
     ]
    }
   ],
   "source": [
    "# Imports\n",
    "import math\n",
    "\n",
    "import matplotlib.pyplot as plt\n",
    "import numpy as np\n",
    "import pandas as pd\n",
    "from sklearn.model_selection import KFold\n",
    "import torch\n",
    "import torch.nn as nn\n",
    "import torch.nn.functional as F\n",
    "from torch.utils.data import DataLoader, SubsetRandomSampler\n",
    "from tqdm.notebook import tqdm\n",
    "\n",
    "from tools import ballsINTObins, RMSELoss, train_epoch, valid_epoch, test_epoch, simulator\n"
   ]
  },
  {
   "cell_type": "code",
   "execution_count": null,
   "id": "5625f4db",
   "metadata": {
    "code_folding": []
   },
   "outputs": [],
   "source": [
    "# Define - Dataset, Model, calc_acc, dataset_creation, Sim Params Class, RMSELoss\n",
    "    \n",
    "class Dataset(torch.utils.data.Dataset):\n",
    "    \n",
    "    def __init__(self, samples, labels):\n",
    "        \n",
    "        super(Dataset, self).__init__()\n",
    "\n",
    "        self.dataset = []\n",
    "        \n",
    "        for sample, label in zip(samples, labels):\n",
    "            self.dataset.append((torch.tensor(sample).float(), torch.tensor(label).float()))\n",
    "\n",
    "    def __getitem__(self, index):\n",
    "                                        \n",
    "        return self.dataset[index]\n",
    "        \n",
    "    def __len__(self):\n",
    "        \n",
    "        return len(self.dataset)\n",
    "\n",
    "\n",
    "    \n",
    "class MLP(nn.Module):\n",
    "\n",
    "    def __init__(self, num_in, num_out):\n",
    "        super().__init__()\n",
    "        \n",
    "        self.network = nn.Sequential(nn.Linear(num_in, 32),\n",
    "                                     nn.ReLU(),\n",
    "#                                      nn.Dropout(0.1),\n",
    "                                     nn.Linear(32, 64),\n",
    "                                     nn.ReLU(),\n",
    "#                                      nn.Dropout(0.1),\n",
    "                                     nn.Linear(64, 64),\n",
    "                                     nn.ReLU(),\n",
    "#                                      nn.Dropout(0.1),\n",
    "                                     nn.Linear(64, num_out),\n",
    "                                     nn.Sigmoid())\n",
    "    def forward(self, x):\n",
    "        return self.network(x)\n",
    "\n",
    "    \n",
    "    \n",
    "# def calculate_accuracy(all_preds, all_labels):\n",
    "\n",
    "#     accuracy = 0\n",
    "#     for i, (pred, label) in enumerate(zip(all_preds, all_labels)):\n",
    "        \n",
    "#         pred = np.argmax(pred)\n",
    "        \n",
    "#         if(pred == label):\n",
    "#             accuracy = accuracy + 1\n",
    "    \n",
    "#     return accuracy / (i + 1)\n",
    "\n",
    "\n",
    "\n",
    "def ballsINTObins(m, n):\n",
    "\n",
    "    if m==0:\n",
    "        return np.zeros((1, n))\n",
    "    \n",
    "    if n==1:\n",
    "        return np.asarray([m])\n",
    "    \n",
    "    all_rest = []\n",
    "    for i in range(m+1):\n",
    "        rest = ballsINTObins(m-i, n-1)\n",
    "        all_rest.append(np.c_[np.ones(rest.shape[0])*i, rest])\n",
    "    \n",
    "    result = np.concatenate(all_rest, axis=0)\n",
    "    return result\n",
    "\n",
    "\n",
    "\n",
    "class Parameters:\n",
    "    def __init__(self, air_trans_file, air_RI, atm_dist_ratio, basis_func_file,\n",
    "                 num_substances, spectra_file, substances_emit_file):\n",
    "        self.air_trans_file = air_trans_file\n",
    "        self.air_RI = air_RI\n",
    "        self.atm_dist_ratio = atm_dist_ratio\n",
    "        self.basis_func_file = basis_func_file\n",
    "        self.num_substances = num_substances\n",
    "        self.spectra_file = spectra_file\n",
    "        self.substances_emit_file = substances_emit_file\n",
    "        \n",
    "        \n",
    "        \n",
    "def RMSELoss(predict, target):\n",
    "    return torch.sqrt(torch.mean((predict-target)**2))"
   ]
  },
  {
   "cell_type": "code",
   "execution_count": 25,
   "id": "c4387132",
   "metadata": {
    "code_folding": [
     0
    ]
   },
   "outputs": [],
   "source": [
    "# Epochs definition\n",
    "\n",
    "# def train_epoch(model, device, dataloader, criterions, optimizer):\n",
    "#     # Support for nultiple criterion functions - MSE for training and others for error display.\n",
    "#     train_loss = [0 for criterion in criterions]\n",
    "#     model.train()\n",
    "    \n",
    "#     for samples, labels in dataloader:\n",
    "#         samples, labels = samples.to(device), labels.to(device)\n",
    "        \n",
    "#         optimizer.zero_grad()\n",
    "        \n",
    "#         output = model(samples)\n",
    "        \n",
    "#         # Training criterion is the last in the list, so that the loss could be used directly for back prop.\n",
    "#         for i, criterion in enumerate(criterions):\n",
    "#             loss = criterion(output, labels)\n",
    "#             train_loss[i] += loss.item() * samples.size(0)\n",
    "        \n",
    "#         loss.backward()\n",
    "#         optimizer.step()\n",
    "        \n",
    "#     return np.asarray(train_loss)\n",
    "\n",
    "\n",
    "\n",
    "# def valid_epoch(model, device, dataloader, criterions):\n",
    "#     valid_loss = [0 for criterion in criterions]\n",
    "#     model.eval()\n",
    "    \n",
    "#     for samples, labels in dataloader:\n",
    "#         samples, labels = samples.to(device), labels.to(device)\n",
    "        \n",
    "#         output = model(samples)\n",
    "        \n",
    "#         for i, criterion in enumerate(criterions):\n",
    "#             loss = criterion(output, labels)\n",
    "#             valid_loss[i] += loss.item() * samples.size(0)\n",
    "        \n",
    "#     return np.asarray(valid_loss)\n",
    "\n",
    "\n",
    "\n",
    "# def test_epoch(model, device, dataloader, criterions):\n",
    "#     test_loss = [0 for criterion in criterions]\n",
    "#     pred_list = []\n",
    "#     targ_list = []\n",
    "    \n",
    "#     model.eval()\n",
    "    \n",
    "#     for samples, labels in dataloader:\n",
    "#         samples, labels = samples.to(device), labels.to(device)\n",
    "        \n",
    "#         output = model(samples)\n",
    "        \n",
    "#         pred_list.append(output.detach().numpy())\n",
    "#         targ_list.append(labels.detach().numpy())\n",
    "        \n",
    "#         for i, criterion in enumerate(criterions):\n",
    "#             loss = criterion(output, labels)\n",
    "#             test_loss[i] += loss.item() * samples.size(0)\n",
    "            \n",
    "#     return np.asarray(test_loss), pred_list, targ_list"
   ]
  },
  {
   "cell_type": "code",
   "execution_count": 26,
   "id": "934969a4",
   "metadata": {
    "code_folding": [
     0
    ]
   },
   "outputs": [],
   "source": [
    "def add_noise(signal, percentage):\n",
    "    perc_array = np.ones(signal.shape)\n",
    "    rand_array = np.random.rand(signal.shape[0]) * percentage\n",
    "    perc_array = perc_array + rand_array\n",
    "    \n",
    "    out = signal * perc_array\n",
    "    \n",
    "    return out"
   ]
  },
  {
   "cell_type": "code",
   "execution_count": 27,
   "id": "2b33ec51",
   "metadata": {
    "code_folding": [
     0
    ]
   },
   "outputs": [],
   "source": [
    "# Simulation parameters\n",
    "   \n",
    "sim_params = Parameters(air_trans_file='./data/Test 2 - 21 Substances/Air transmittance.xlsx',\n",
    "                        air_RI=1,\n",
    "                        atm_dist_ratio=0.11,\n",
    "                        basis_func_file='./data/Test 2 - 21 Substances/Basis functions.xlsx',\n",
    "                        num_substances=4,\n",
    "                        spectra_file='./data/Test 2 - 21 Substances/spectra.xlsx',\n",
    "                        substances_emit_file='./data/Test 2 - 21 Substances/substances.xlsx')\n",
    "\n",
    "\n",
    "# Enviroment related parameters\n",
    "temp_K = 293.15 # Environmental temperature in K\n",
    "air_trans = np.array(pd.read_excel(sim_params.air_trans_file, header=None))\n",
    "air_trans = air_trans[:, 1:]\n",
    "atm_dist_ratio = sim_params.atm_dist_ratio # Atomsphere distance ratio\n",
    "air_RI = sim_params.air_RI # Refractive index of air\n",
    "\n",
    "# Sensor related parameters\n",
    "basis_funcs = np.array(pd.read_excel(sim_params.basis_func_file, header=None))\n",
    "basis_funcs = basis_funcs[:, 1:]\n",
    "\n",
    "# Substance related parameters\n",
    "num_substances = sim_params.num_substances\n",
    "spectra = np.array(pd.read_excel(sim_params.spectra_file, header=None))\n",
    "substances_emit = np.array(pd.read_excel(sim_params.substances_emit_file, header=None))\n",
    "substances_emit = substances_emit[:, 0:sim_params.num_substances]\n",
    "# Material mixture proportion\n",
    "mat_proportion = ballsINTObins(10, sim_params.num_substances).transpose() / 10\n",
    "# mat_proportion = np.array(pd.read_excel('./data/Test 2 - 21 Substances/proportion_NN_test.xlsx', header=None))\n",
    "\n",
    "data = []\n",
    "labels = []\n",
    "for i in range(mat_proportion.shape[1]):\n",
    "    weights = mat_proportion[:, i]\n",
    "    mat_em = np.average(substances_emit, weights=weights, axis=1)\n",
    "    mat_em = np.expand_dims(mat_em, 1)\n",
    "    out = simulator(spectra, mat_em, temp_K, air_trans, atm_dist_ratio, air_RI, basis_funcs)\n",
    "    \n",
    "    for i in range(1, 6):\n",
    "        out = add_noise(out, i/100)\n",
    "        data.append(out)\n",
    "    labels.append(weights)\n",
    "\n",
    "\n",
    "test_data = []\n",
    "test_labels = []\n",
    "for i in range(mat_proportion.shape[1]):\n",
    "    weights = mat_proportion[:, i]\n",
    "    mat_em = np.average(substances_emit, weights=weights, axis=1)\n",
    "    mat_em = np.expand_dims(mat_em, 1)\n",
    "    out = simulator(spectra, mat_em, temp_K, air_trans, atm_dist_ratio, air_RI, basis_funcs)\n",
    "    \n",
    "    \n",
    "    out = add_noise(out, 3/100)\n",
    "    test_data.append(out)\n",
    "    test_labels.append(weights)"
   ]
  },
  {
   "cell_type": "code",
   "execution_count": 28,
   "id": "c6d7e4c6",
   "metadata": {
    "code_folding": [
     0
    ]
   },
   "outputs": [],
   "source": [
    "# Training parameters\n",
    "dataset = Dataset(data, labels)\n",
    "\n",
    "batch_size = len(data) // 10\n",
    "\n",
    "train_percentage = 0.8\n",
    "train_size = int(train_percentage * len(data))\n",
    "test_size = len(dataset) - train_size\n",
    "torch.manual_seed(28)\n",
    "train_dataset, test_dataset = torch.utils.data.random_split(dataset, [train_size, test_size])\n",
    "train_loader = DataLoader(train_dataset, batch_size=batch_size, shuffle=True)\n",
    "test_loader = DataLoader(test_dataset, batch_size=1, shuffle=False)\n",
    "\n",
    "criterions = [nn.L1Loss(), RMSELoss, nn.MSELoss()]\n",
    "\n",
    "learning_rate = 1e-3\n",
    "\n",
    "num_epochs = 1000\n",
    "\n",
    "# device = torch.device(\"cuda:0\" if torch.cuda.is_available() else \"cpu\")\n",
    "# device = torch.device(\"mps\")\n",
    "device = torch.device(\"cpu\")\n",
    "\n",
    "k = 5\n",
    "kfold = KFold(n_splits=k, shuffle=True)\n",
    "\n",
    "\n",
    "test_dataset = Dataset(test_data, test_labels)\n",
    "test_loader = DataLoader(test_dataset, batch_size=1, shuffle=False)"
   ]
  },
  {
   "cell_type": "code",
   "execution_count": 29,
   "id": "d65a4ccf",
   "metadata": {
    "code_folding": [
     0
    ],
    "scrolled": false
   },
   "outputs": [
    {
     "name": "stdout",
     "output_type": "stream",
     "text": [
      "\n",
      "FOLD 1\n"
     ]
    },
    {
     "data": {
      "application/vnd.jupyter.widget-view+json": {
       "model_id": "ce972ae641d64e83b518ec895d0133b5",
       "version_major": 2,
       "version_minor": 0
      },
      "text/plain": [
       "  0%|          | 0/1000 [00:00<?, ?it/s]"
      ]
     },
     "metadata": {},
     "output_type": "display_data"
    },
    {
     "name": "stdout",
     "output_type": "stream",
     "text": [
      "\n",
      "FOLD 2\n"
     ]
    },
    {
     "data": {
      "application/vnd.jupyter.widget-view+json": {
       "model_id": "0be8e73fa5474b6b8ba40924d5e4ae8b",
       "version_major": 2,
       "version_minor": 0
      },
      "text/plain": [
       "  0%|          | 0/1000 [00:00<?, ?it/s]"
      ]
     },
     "metadata": {},
     "output_type": "display_data"
    },
    {
     "name": "stdout",
     "output_type": "stream",
     "text": [
      "\n",
      "FOLD 3\n"
     ]
    },
    {
     "data": {
      "application/vnd.jupyter.widget-view+json": {
       "model_id": "6a8af0f7b19d41acb676eb521f44b2ca",
       "version_major": 2,
       "version_minor": 0
      },
      "text/plain": [
       "  0%|          | 0/1000 [00:00<?, ?it/s]"
      ]
     },
     "metadata": {},
     "output_type": "display_data"
    },
    {
     "name": "stdout",
     "output_type": "stream",
     "text": [
      "\n",
      "FOLD 4\n"
     ]
    },
    {
     "data": {
      "application/vnd.jupyter.widget-view+json": {
       "model_id": "d13d50cbce0b4882930f7a3ea12d0f0c",
       "version_major": 2,
       "version_minor": 0
      },
      "text/plain": [
       "  0%|          | 0/1000 [00:00<?, ?it/s]"
      ]
     },
     "metadata": {},
     "output_type": "display_data"
    },
    {
     "name": "stdout",
     "output_type": "stream",
     "text": [
      "\n",
      "FOLD 5\n"
     ]
    },
    {
     "data": {
      "application/vnd.jupyter.widget-view+json": {
       "model_id": "10f15a11e2a24a7194b57ce7239661d5",
       "version_major": 2,
       "version_minor": 0
      },
      "text/plain": [
       "  0%|          | 0/1000 [00:00<?, ?it/s]"
      ]
     },
     "metadata": {},
     "output_type": "display_data"
    }
   ],
   "source": [
    "# Train - k fold\n",
    "\n",
    "history = []\n",
    "models = []\n",
    "\n",
    "for fold, (train_ids, valid_ids) in enumerate(kfold.split(train_dataset)):\n",
    "    print(f'\\nFOLD {fold + 1}')\n",
    "#     print('--------------------------------')\n",
    "    train_subsampler = SubsetRandomSampler(train_ids)\n",
    "    valid_subsampler = SubsetRandomSampler(valid_ids)\n",
    "    train_loader = DataLoader(train_dataset, batch_size=batch_size, sampler=train_subsampler)\n",
    "    valid_loader = DataLoader(train_dataset, batch_size=batch_size, sampler=valid_subsampler)\n",
    "\n",
    "    model = MLP(num_in=basis_funcs.shape[1], num_out=sim_params.num_substances)\n",
    "    model.to(device)\n",
    "    optimizer = torch.optim.Adam(model.parameters(), lr=learning_rate)\n",
    "    \n",
    "    model_loss_records = {'train_loss': [], 'valid_loss': []}\n",
    "    for epoch in tqdm(range(num_epochs)):\n",
    "        train_loss = train_epoch(model, device, train_loader, criterions, optimizer)\n",
    "        valid_loss = valid_epoch(model, device, valid_loader, criterions)\n",
    "        \n",
    "        train_loss = train_loss / len(train_loader.sampler)\n",
    "        valid_loss = valid_loss / len(valid_loader.sampler)\n",
    "        \n",
    "        model_loss_records['train_loss'].append(train_loss)\n",
    "        model_loss_records['valid_loss'].append(valid_loss)\n",
    "        \n",
    "    model_loss_records['train_loss'] = np.asarray(model_loss_records['train_loss'])\n",
    "    model_loss_records['valid_loss'] = np.asarray(model_loss_records['valid_loss'])\n",
    "    history.append(model_loss_records)\n",
    "    models.append(model)\n",
    "        \n",
    "#         print(\"Epoch:{}/{} AVG Training Loss:{:.3f} AVG Valid Loss:{:.3f} \".format(epoch + 1,\n",
    "#                                                                                    num_epochs,\n",
    "#                                                                                    train_loss,\n",
    "#                                                                                    valid_loss))\n"
   ]
  },
  {
   "cell_type": "code",
   "execution_count": 30,
   "id": "81682f2c",
   "metadata": {
    "code_folding": [
     0
    ],
    "scrolled": false
   },
   "outputs": [
    {
     "data": {
      "application/vnd.jupyter.widget-view+json": {
       "model_id": "1d881e8601984fe0b859dc40404aa118",
       "version_major": 2,
       "version_minor": 0
      },
      "text/plain": [
       "  0%|          | 0/100 [00:00<?, ?it/s]"
      ]
     },
     "metadata": {},
     "output_type": "display_data"
    },
    {
     "name": "stdout",
     "output_type": "stream",
     "text": [
      "0.10471258810838567\n",
      "0.29880152324488113\n",
      "0.25037937570675894\n"
     ]
    },
    {
     "data": {
      "text/plain": [
       "<matplotlib.legend.Legend at 0x15ba22730>"
      ]
     },
     "execution_count": 30,
     "metadata": {},
     "output_type": "execute_result"
    },
    {
     "data": {
      "image/png": "[encoded data removed]",
      "text/plain": [
       "<Figure size 432x288 with 1 Axes>"
      ]
     },
     "metadata": {
      "needs_background": "light"
     },
     "output_type": "display_data"
    }
   ],
   "source": [
    "# Base line\n",
    "\n",
    "epoch = 100\n",
    "\n",
    "MSE = []\n",
    "avg_MSE = []\n",
    "RMSE = []\n",
    "avg_RMSE = []\n",
    "L1Loss = []\n",
    "avg_L1Loss = []\n",
    "\n",
    "\n",
    "mseloss = nn.MSELoss()\n",
    "l1loss = nn.L1Loss()\n",
    "\n",
    "for i in tqdm(range(epoch)):\n",
    "    \n",
    "    target_loader = DataLoader(dataset, batch_size=1, shuffle=True)\n",
    "    pred_loader = DataLoader(dataset, batch_size=1, shuffle=True)\n",
    "    pred_loader_iter = iter(pred_loader)\n",
    "\n",
    "    for x, target in target_loader:\n",
    "\n",
    "        xx, pred = next(pred_loader_iter)\n",
    "\n",
    "        MSE.append(mseloss(pred, target).item())\n",
    "        RMSE.append(RMSELoss(pred, target).item())\n",
    "        L1Loss.append(l1loss(pred, target).item())\n",
    "        \n",
    "    avg_MSE.append(np.mean(MSE))\n",
    "    avg_RMSE.append(np.mean(RMSE))\n",
    "    avg_L1Loss.append(np.mean(L1Loss))\n",
    "\n",
    "print(avg_MSE[-1])\n",
    "print(avg_RMSE[-1])\n",
    "print(avg_L1Loss[-1])\n",
    "\n",
    "plt.plot(avg_MSE)\n",
    "plt.plot(avg_RMSE)\n",
    "plt.plot(avg_L1Loss)\n",
    "\n",
    "plt.legend(['avg_MSE', 'avg_RMSE', 'avg_L1Loss'])\n"
   ]
  },
  {
   "cell_type": "code",
   "execution_count": 31,
   "id": "d56d106c",
   "metadata": {
    "code_folding": [
     0
    ],
    "scrolled": false
   },
   "outputs": [
    {
     "name": "stdout",
     "output_type": "stream",
     "text": [
      "avg loss = 0.12030799239873886\n",
      "best loss = 0.10505615174770355\n",
      "best model index = 1\n"
     ]
    },
    {
     "data": {
      "image/png": "[encoded data removed]",
      "text/plain": [
       "<Figure size 432x792 with 5 Axes>"
      ]
     },
     "metadata": {
      "needs_background": "light"
     },
     "output_type": "display_data"
    }
   ],
   "source": [
    "# Plot k fold\n",
    "fig, axs = plt.subplots(k, figsize=(6, 11))\n",
    "fig.tight_layout(pad=3)\n",
    "# np.set_printoptions(formatter={'float': '{: 0.2f}'.format})\n",
    "loss = []\n",
    "loss_func_index = 0\n",
    "base_line_loss = [avg_L1Loss[-1], avg_RMSE[-1], avg_MSE[-1]]\n",
    "base_line_names = ['L1', 'RMSE', 'MSE']\n",
    "# avg_loss = 0\n",
    "for i in range (5):\n",
    "    axs[i].plot(history[i]['train_loss'][:, loss_func_index])\n",
    "    axs[i].plot(history[i]['valid_loss'][:, loss_func_index])\n",
    "    axs[i].axhline(base_line_loss[loss_func_index], color='r')\n",
    "    \n",
    "    axs[i].set_ylim(bottom=0)\n",
    "    axs[i].set_xlabel('Epoch')\n",
    "    axs[i].set_ylabel(base_line_names[loss_func_index])\n",
    "    \n",
    "    axs[i].legend(['train loss', 'valid loss', 'base line'], \n",
    "                  title=f'Last Loss: {\"{:0.3e}\".format(history[i][\"valid_loss\"][:, loss_func_index][-1])}')\n",
    "    \n",
    "    axs[i].set_title('Fold' + str(i))\n",
    "    \n",
    "    loss.append(history[i][\"valid_loss\"][:, loss_func_index][-1])\n",
    "    \n",
    "    \n",
    "#     avg_loss += history[i][\"valid_loss\"][-1]\n",
    "    \n",
    "avg_loss = np.mean(loss)\n",
    "best_loss = np.min(loss)\n",
    "best_model_index = np.argmin(loss)\n",
    "\n",
    "print(\"avg loss =\", avg_loss)\n",
    "print(\"best loss =\", best_loss)\n",
    "print(\"best model index =\", best_model_index)"
   ]
  },
  {
   "cell_type": "code",
   "execution_count": 32,
   "id": "a31286c3",
   "metadata": {
    "code_folding": [
     0
    ],
    "scrolled": false
   },
   "outputs": [
    {
     "name": "stdout",
     "output_type": "stream",
     "text": [
      "[ 65.82  78.83  25.73]\n",
      "Target:  [[ 0.00  0.20  0.00  0.80]]\n",
      "Predict: [[ 0.06  0.67  0.15  0.15]] \n",
      "\n",
      "Target:  [[ 0.00  0.20  0.10  0.70]]\n",
      "Predict: [[ 0.09  0.57  0.18  0.18]] \n",
      "\n",
      "Target:  [[ 0.00  0.20  0.20  0.60]]\n",
      "Predict: [[ 0.11  0.40  0.23  0.23]] \n",
      "\n",
      "Target:  [[ 0.00  0.20  0.30  0.50]]\n",
      "Predict: [[ 0.12  0.28  0.29  0.32]] \n",
      "\n",
      "Target:  [[ 0.00  0.20  0.40  0.40]]\n",
      "Predict: [[ 0.14  0.18  0.36  0.37]] \n",
      "\n",
      "Target:  [[ 0.00  0.20  0.50  0.30]]\n",
      "Predict: [[ 0.15  0.14  0.40  0.38]] \n",
      "\n",
      "Target:  [[ 0.00  0.20  0.60  0.20]]\n",
      "Predict: [[ 0.15  0.14  0.39  0.36]] \n",
      "\n",
      "Target:  [[ 0.00  0.20  0.70  0.10]]\n",
      "Predict: [[ 0.16  0.15  0.39  0.34]] \n",
      "\n",
      "Target:  [[ 0.00  0.20  0.80  0.00]]\n",
      "Predict: [[ 0.16  0.30  0.27  0.26]] \n",
      "\n",
      "Target:  [[ 0.00  0.30  0.00  0.70]]\n",
      "Predict: [[ 0.19  0.55  0.13  0.14]] \n",
      "\n",
      "0.11855780333280563\n"
     ]
    },
    {
     "data": {
      "image/png": "[encoded data removed]",
      "text/plain": [
       "<Figure size 432x288 with 1 Axes>"
      ]
     },
     "metadata": {
      "needs_background": "light"
     },
     "output_type": "display_data"
    }
   ],
   "source": [
    "# Plot k fold test result\n",
    "\n",
    "criterions = [nn.L1Loss(reduction='mean'), RMSELoss, nn.MSELoss()]\n",
    "\n",
    "model = models[best_model_index]\n",
    "test_loss, pred_list, targ_list = test_epoch(model, device, test_loader, criterions)\n",
    "\n",
    "print(test_loss)\n",
    "\n",
    "loss_func_index = 0\n",
    "base_line_loss = [avg_L1Loss[-1], avg_RMSE[-1], avg_MSE[-1]]\n",
    "\n",
    "test_loss = test_loss / len(test_dataset)\n",
    "\n",
    "fig, ax = plt.subplots(figsize=(6, 4))\n",
    "ax.plot(history[best_model_index]['train_loss'][:, loss_func_index])\n",
    "ax.plot(history[best_model_index]['valid_loss'][:, loss_func_index])\n",
    "\n",
    "ax.axhline(base_line_loss[loss_func_index], color='r')\n",
    "ax.axhline(y=test_loss[loss_func_index], color='g')\n",
    "    \n",
    "# ax.plot(avg_RMSE)\n",
    "# ax.plot(avg_L1Loss)\n",
    "\n",
    "ax.set_ylim(bottom=0)\n",
    "ax.set_xlabel('Epoch')\n",
    "ax.set_ylabel(base_line_names[loss_func_index])\n",
    "ax.legend(['train loss', 'valid loss', 'base line', 'test loss'], \n",
    "          title=f'Last Loss: {\"{:0.3e}\".format(history[best_model_index][\"valid_loss\"][:, loss_func_index][-1])}')\n",
    "\n",
    "np.set_printoptions(formatter={'float': '{: 0.2f}'.format})\n",
    "for i in range(21,31):\n",
    "    print('Target: ', targ_list[i])\n",
    "    print('Predict:', pred_list[i], '\\n')\n",
    "print(loss[loss_func_index])"
   ]
  },
  {
   "cell_type": "code",
   "execution_count": null,
   "id": "0dc3b9eb",
   "metadata": {},
   "outputs": [],
   "source": []
  }
 ],
 "metadata": {
  "kernelspec": {
   "display_name": "Python 3 (ipykernel)",
   "language": "python",
   "name": "python3"
  },
  "language_info": {
   "codemirror_mode": {
    "name": "ipython",
    "version": 3
   },
   "file_extension": ".py",
   "mimetype": "text/x-python",
   "name": "python",
   "nbconvert_exporter": "python",
   "pygments_lexer": "ipython3",
   "version": "3.8.15"
  },
  "vscode": {
   "interpreter": {
    "hash": "c425d01e3fe884931333939e0ad7960b908645cf1ab99418b036767927303f60"
   }
  }
 },
 "nbformat": 4,
 "nbformat_minor": 5
}
