{
 "cells": [
  {
   "cell_type": "code",
   "execution_count": 1,
   "id": "a5b1364f",
   "metadata": {
    "code_folding": [
     0
    ]
   },
   "outputs": [
    {
     "data": {
      "text/html": [
       "<style>.container { width:100% !important; }</style>"
      ],
      "text/plain": [
       "<IPython.core.display.HTML object>"
      ]
     },
     "metadata": {},
     "output_type": "display_data"
    },
    {
     "data": {
      "text/html": [
       "<style>.output_result { max-width:100% !important; }</style>"
      ],
      "text/plain": [
       "<IPython.core.display.HTML object>"
      ]
     },
     "metadata": {},
     "output_type": "display_data"
    }
   ],
   "source": [
    "# Appearance adjustment\n",
    "from IPython.display import display, HTML\n",
    "display(HTML(\"<style>.container { width:100% !important; }</style>\"))\n",
    "display(HTML(\"<style>.output_result { max-width:100% !important; }</style>\"))"
   ]
  },
  {
   "cell_type": "code",
   "execution_count": 2,
   "id": "a977f8fc",
   "metadata": {
    "code_folding": [
     0
    ]
   },
   "outputs": [],
   "source": [
    "# Imports\n",
    "import matplotlib.pyplot as plt\n",
    "import numpy as np\n",
    "import pandas as pd\n",
    "from sklearn.model_selection import KFold\n",
    "import torch\n",
    "import torch.nn as nn\n",
    "import torch.nn.functional as F\n",
    "from torch.utils.data import DataLoader, SubsetRandomSampler\n",
    "from tqdm.notebook import tqdm\n",
    "\n",
    "from simulator import simulator\n"
   ]
  },
  {
   "cell_type": "code",
   "execution_count": 11,
   "id": "5625f4db",
   "metadata": {
    "code_folding": [
     0
    ]
   },
   "outputs": [],
   "source": [
    "# Define - Dataset, Model, calc_acc, dataset_creation\n",
    "\n",
    "class Dataset(torch.utils.data.Dataset):\n",
    "    \n",
    "    def __init__(self, samples, labels):\n",
    "        \n",
    "        super(Dataset, self).__init__()\n",
    "        \n",
    "        self.create_dataset(samples, labels)\n",
    "        \n",
    "    def create_dataset(self, all_samples, all_labels):\n",
    "        \n",
    "        self.dataset = []\n",
    "        \n",
    "        for sample, label in zip(all_samples, all_labels):\n",
    "            self.dataset.append((torch.tensor(sample).float(), torch.tensor(label).float()))\n",
    "\n",
    "    def __getitem__(self, index):\n",
    "                                        \n",
    "        return self.dataset[index]                            \n",
    "        \n",
    "    def __len__(self):\n",
    "        \n",
    "        return len(self.dataset)\n",
    "\n",
    "\n",
    "    \n",
    "class MLP(nn.Module):\n",
    "\n",
    "    def __init__(self, num_in, num_out):\n",
    "        super().__init__()\n",
    "        \n",
    "        self.network = nn.Sequential(nn.Linear(num_in, 32),\n",
    "                                     nn.ReLU(),\n",
    "                                     nn.Linear(32, 32),\n",
    "                                     nn.ReLU(),\n",
    "                                     nn.Linear(32, num_out),\n",
    "                                     nn.Sigmoid(),\n",
    "                                     nn.Softmax())\n",
    "\n",
    "    def forward(self, x):\n",
    "        return self.network(x)\n",
    "\n",
    "    \n",
    "def calculate_accuracy(all_preds, all_labels):\n",
    "\n",
    "    accuracy = 0\n",
    "    for i, (pred, label) in enumerate(zip(all_preds, all_labels)):\n",
    "        \n",
    "        pred = np.argmax(pred)\n",
    "        \n",
    "        if(pred == label):\n",
    "            accuracy = accuracy + 1\n",
    "    \n",
    "    return accuracy / (i + 1)\n",
    "\n",
    "\n",
    "\n",
    "def ballsINTObins(m, n):\n",
    "    \n",
    "    if m==0:\n",
    "        return np.zeros((1, n))\n",
    "    \n",
    "    if n==1:\n",
    "        return np.asarray([m])\n",
    "    \n",
    "    all_rest = []\n",
    "    for i in range(m+1):\n",
    "        rest = ballsINTObins(m-i, n-1)\n",
    "        all_rest.append(np.c_[np.ones(rest.shape[0])*i, rest])\n",
    "    \n",
    "    result = np.concatenate(all_rest, axis=0)\n",
    "    return result"
   ]
  },
  {
   "cell_type": "code",
   "execution_count": 12,
   "id": "0f4d1921",
   "metadata": {
    "code_folding": [
     0
    ]
   },
   "outputs": [],
   "source": [
    "# User assigined parameters\n",
    "\n",
    "class Parameters:\n",
    "    def __init__(self, air_trans_file, atm_dist_ratio, air_RI, basis_func_file,\n",
    "                 num_substances, spectra_file, substances_emit_file):\n",
    "        self.air_trans_file = air_trans_file\n",
    "        self.atm_dist_ratio = atm_dist_ratio\n",
    "        self.air_RI = air_RI\n",
    "        self.basis_func_file = basis_func_file\n",
    "        self.num_substances = num_substances\n",
    "        self.spectra_file = spectra_file\n",
    "        self.substances_emit_file = substances_emit_file\n",
    "        \n",
    "        \n",
    "        \n",
    "parameters = Parameters(air_trans_file='./data/Test 2 - 21 Substances/Air transmittance.xlsx',\n",
    "                        atm_dist_ratio=0.11,\n",
    "                        air_RI=1,\n",
    "                        basis_func_file='./data/Test 2 - 21 Substances/Basis functions.xlsx',\n",
    "                        num_substances=3,\n",
    "                        spectra_file='./data/Test 2 - 21 Substances/spectra.xlsx',\n",
    "                        substances_emit_file='./data/Test 2 - 21 Substances/substances.xlsx')\n",
    "\n"
   ]
  },
  {
   "cell_type": "code",
   "execution_count": 13,
   "id": "2b33ec51",
   "metadata": {
    "code_folding": [
     0
    ]
   },
   "outputs": [],
   "source": [
    "# Init dataset\n",
    "\n",
    "# Enviroment related parameters\n",
    "temp_K = 293.15 # Environmental temperature in K\n",
    "air_trans = np.array(pd.read_excel(parameters.air_trans_file, header=None))\n",
    "air_trans = air_trans[:, 1:]\n",
    "atm_dist_ratio = parameters.atm_dist_ratio # Atomsphere distance ratio\n",
    "air_RI = parameters.air_RI # Refractive index of air\n",
    "\n",
    "# Sensor related parameters\n",
    "basis_funcs = np.array(pd.read_excel(parameters.basis_func_file, header=None))\n",
    "basis_funcs = basis_funcs[:, 1:]\n",
    "\n",
    "# Substance related parameters\n",
    "num_substances = parameters.num_substances\n",
    "spectra = np.array(pd.read_excel(parameters.spectra_file, header=None))\n",
    "substances_emit = np.array(pd.read_excel(parameters.substances_emit_file, header=None))\n",
    "substances_emit = substances_emit[:, 0:parameters.num_substances]\n",
    "# Material mixture proportion\n",
    "mat_proportion = ballsINTObins(10, parameters.num_substances).transpose() / 10\n",
    "\n",
    "data = []\n",
    "labels = []\n",
    "for i in range(mat_proportion.shape[1]):\n",
    "    weights = mat_proportion[:, i]\n",
    "    mat_em = np.average(substances_emit, weights=weights, axis=1)\n",
    "    mat_em = np.expand_dims(mat_em, 1)\n",
    "    out = simulator(spectra, mat_em, temp_K, air_trans, atm_dist_ratio, air_RI, basis_funcs)\n",
    "    data.append(out)\n",
    "    labels.append(weights)\n"
   ]
  },
  {
   "cell_type": "code",
   "execution_count": 32,
   "id": "c6d7e4c6",
   "metadata": {
    "code_folding": []
   },
   "outputs": [],
   "source": [
    "# Training parameters\n",
    "\n",
    "device = torch.device(\"cuda:0\" if torch.cuda.is_available() else \"cpu\")\n",
    "\n",
    "torch.manual_seed(28)\n",
    "\n",
    "criterion = nn.MSELoss()\n",
    "\n",
    "dataset = Dataset(data, labels)\n",
    "\n",
    "batch_size = len(data) // 10\n",
    "train_percentage = 0.8\n",
    "learning_rate = 1e-4\n",
    "\n",
    "\n",
    "\n",
    "num_epochs = 1000\n",
    "\n",
    "k = 5\n",
    "kfold = KFold(n_splits=k, shuffle=True)\n",
    "\n",
    "train_size = int(train_percentage * len(data))\n",
    "test_size = len(dataset) - train_size\n",
    "train_dataset, test_dataset = torch.utils.data.random_split(dataset, [train_size, test_size])"
   ]
  },
  {
   "cell_type": "code",
   "execution_count": 33,
   "id": "9f67f9df",
   "metadata": {
    "code_folding": [
     0
    ]
   },
   "outputs": [],
   "source": [
    "# Epochs definition\n",
    "\n",
    "def train_epoch(model, device, dataloader, criterion, optimizer):\n",
    "    train_loss = 0\n",
    "    model.train()\n",
    "    for samples, labels in dataloader:\n",
    "        samples, labels = samples.to(device), labels.to(device)\n",
    "        optimizer.zero_grad()\n",
    "        output = model(samples)\n",
    "        loss = criterion(output, labels)\n",
    "        loss.backward()\n",
    "        optimizer.step()\n",
    "        train_loss += loss.item() * samples.size(0)\n",
    "        \n",
    "    return train_loss\n",
    "\n",
    "\n",
    "\n",
    "def valid_epoch(model, device, dataloader, criterion):\n",
    "    valid_loss = 0\n",
    "    model.eval()\n",
    "    for samples, labels in dataloader:\n",
    "        samples, labels = samples.to(device), labels.to(device)\n",
    "        output = model(samples)\n",
    "        loss = criterion(output, labels)\n",
    "        valid_loss += loss.item() * samples.size(0)\n",
    "        \n",
    "    return valid_loss"
   ]
  },
  {
   "cell_type": "code",
   "execution_count": 34,
   "id": "4fd2ec5e",
   "metadata": {
    "code_folding": [],
    "scrolled": false
   },
   "outputs": [
    {
     "name": "stdout",
     "output_type": "stream",
     "text": [
      "\n",
      "FOLD 1\n",
      "--------------------------------\n",
      "\n",
      "FOLD 2\n",
      "--------------------------------\n",
      "\n",
      "FOLD 3\n",
      "--------------------------------\n",
      "\n",
      "FOLD 4\n",
      "--------------------------------\n",
      "\n",
      "FOLD 5\n",
      "--------------------------------\n"
     ]
    }
   ],
   "source": [
    "# Train - k fold\n",
    "\n",
    "history = {'train_loss': [], 'valid_loss': []}\n",
    "\n",
    "for fold, (train_ids, valid_ids) in enumerate(kfold.split(train_dataset)):\n",
    "    print(f'\\nFOLD {fold + 1}')\n",
    "    print('--------------------------------')\n",
    "    train_subsampler = SubsetRandomSampler(train_ids)\n",
    "    valid_subsampler = SubsetRandomSampler(valid_ids)\n",
    "    train_loader = DataLoader(train_dataset, batch_size=batch_size, sampler=train_subsampler)\n",
    "    valid_loader = DataLoader(train_dataset, batch_size=batch_size, sampler=valid_subsampler)\n",
    "    \n",
    "    model = MLP(num_in=basis_funcs.shape[1], num_out=parameters.num_substances)\n",
    "    model.to(device)\n",
    "    optimizer = torch.optim.Adam(model.parameters(), lr=learning_rate)\n",
    "    \n",
    "    for epoch in range(num_epochs):\n",
    "        train_loss = train_epoch(model, device, train_loader, criterion, optimizer)\n",
    "        valid_loss = valid_epoch(model, device, valid_loader, criterion)\n",
    "        \n",
    "        train_loss = train_loss / len(train_loader.sampler)\n",
    "        valid_loss = valid_loss / len(valid_loader.sampler)\n",
    "        \n",
    "#         print(\"Epoch:{}/{} AVG Training Loss:{:.3f} AVG Valid Loss:{:.3f} \".format(epoch + 1,\n",
    "#                                                                                    num_epochs,\n",
    "#                                                                                    train_loss,\n",
    "#                                                                                    valid_loss))\n",
    "        history['train_loss'].append(train_loss)\n",
    "        history['valid_loss'].append(valid_loss)"
   ]
  },
  {
   "cell_type": "code",
   "execution_count": 31,
   "id": "d56d106c",
   "metadata": {},
   "outputs": [
    {
     "data": {
      "text/plain": [
       "[<matplotlib.lines.Line2D at 0x7f8109eaedf0>]"
      ]
     },
     "execution_count": 31,
     "metadata": {},
     "output_type": "execute_result"
    },
    {
     "data": {
      "image/png": "[encoded data removed]",
      "text/plain": [
       "<Figure size 640x480 with 1 Axes>"
      ]
     },
     "metadata": {},
     "output_type": "display_data"
    }
   ],
   "source": [
    "plt.plot(history['train_loss'])"
   ]
  },
  {
   "cell_type": "code",
   "execution_count": null,
   "id": "57b26073",
   "metadata": {},
   "outputs": [],
   "source": []
  },
  {
   "cell_type": "code",
   "execution_count": null,
   "id": "e35787ec",
   "metadata": {},
   "outputs": [],
   "source": []
  },
  {
   "cell_type": "code",
   "execution_count": null,
   "id": "6b1bdae9",
   "metadata": {},
   "outputs": [],
   "source": []
  },
  {
   "cell_type": "code",
   "execution_count": null,
   "id": "6e5f1634",
   "metadata": {
    "code_folding": [],
    "scrolled": false
   },
   "outputs": [],
   "source": [
    "# Train\n",
    "\n",
    "# Parameters\n",
    "batch_size = len(data) // 10\n",
    "train_percentage = 0.8\n",
    "learning_rate = 1e-3\n",
    "\n",
    "dataset = Dataset(data, labels)\n",
    "\n",
    "train_size = int(train_percentage * len(data))\n",
    "test_size = len(dataset) - train_size\n",
    "\n",
    "# train_dataset, test_dataset = torch.utils.data.random_split(dataset, [train_size, test_size])\n",
    "\n",
    "# temp for test\n",
    "train_dataset, test_dataset = dataset, dataset\n",
    "\n",
    "train_loader = DataLoader(train_dataset, batch_size = batch_size, shuffle = True)\n",
    "test_loader = DataLoader(test_dataset, batch_size = 1, shuffle = False)\n",
    "\n",
    "\n",
    "model = MLP(lr=learning_rate, num_in=basis_funcs.shape[1], num_out=num_substance)\n",
    "# criterion = torch.nn.BCELoss()\n",
    "criterion = torch.nn.MSELoss()\n",
    "# optimizer = torch.optim.SGD(model.parameters(), lr = lr)\n",
    "optimizer = torch.optim.Adam(model.parameters(), lr = learning_rate)\n",
    "model.train()\n",
    "epoch = 1000\n",
    "training_loss = []\n",
    "for ep in tqdm(range(epoch), desc=\"Training\"):\n",
    "\n",
    "    epoch_loss = 0\n",
    "    for i, (sample, label) in enumerate(train_dataset):\n",
    "        # Forward pass\n",
    "        preds = model(sample)\n",
    "        # Compute Loss\n",
    "        loss = model.objective(preds, label)\n",
    "\n",
    "        epoch_loss = epoch_loss + loss.item()\n",
    "\n",
    "        model.optimizer.zero_grad()\n",
    "        loss.backward()\n",
    "        model.optimizer.step()\n",
    "\n",
    "    epoch_loss = epoch_loss / (i + 1)\n",
    "\n",
    "    training_loss.append(epoch_loss)\n",
    "\n",
    "\n",
    "plt.figure()\n",
    "plt.plot(training_loss)\n",
    "plt.show()\n",
    "\n",
    "\n",
    "model.eval()\n",
    "all_labels, all_preds = [], []\n",
    "\n",
    "for i, (sample, label) in enumerate(test_dataset):\n",
    "\n",
    "    preds = model(sample)\n",
    "\n",
    "    all_preds.append(preds.detach().numpy())\n",
    "    all_labels.append(label.numpy())\n",
    "\n",
    "all_labels = np.asarray(all_labels)\n",
    "all_preds = np.asarray(all_preds)\n",
    "\n",
    "\n",
    "#     to_print = np.asarray([all_labels, all_preds])\n",
    "np.set_printoptions(formatter={'float': '{: 0.2f}'.format})\n",
    "for i in range(10):\n",
    "    print(\"Target: \", all_labels[i, :])\n",
    "    print(\"Predict:\", all_preds[i, :], '\\n')\n",
    "\n",
    "\n",
    "\n",
    "error = 0\n",
    "for i in range(all_labels.shape[0]):\n",
    "    error = error + np.linalg.norm(all_labels[i, :] - all_preds[i, :])\n",
    "\n",
    "print(\"error:\", error/all_labels.shape[0])"
   ]
  },
  {
   "cell_type": "code",
   "execution_count": null,
   "id": "fff50229",
   "metadata": {},
   "outputs": [],
   "source": []
  },
  {
   "cell_type": "code",
   "execution_count": null,
   "id": "72a7ba31-9083-449c-ac06-dd5aed91933e",
   "metadata": {
    "code_folding": [
     0
    ],
    "scrolled": false
   },
   "outputs": [],
   "source": [
    "# Run\n",
    "\n",
    "def percentage_test(x, y):\n",
    "    \n",
    "    batch_size = 20\n",
    "    \n",
    "    dataset = Dataset(x, y)\n",
    "    \n",
    "#     x = torch.FloatTensor(x)\n",
    "#     y = torch.FloatTensor(y)\n",
    "    \n",
    "    train_size = int(0.8 * len(x))\n",
    "    test_size = len(dataset) - train_size\n",
    "    \n",
    "    train_dataset, test_dataset = torch.utils.data.random_split(dataset, [train_size, test_size])\n",
    "    \n",
    "    train_loader = torch.utils.data.DataLoader(train_dataset, batch_size = batch_size, shuffle = True)\n",
    "    test_loader = torch.utils.data.DataLoader(test_dataset, batch_size = 1, shuffle = False)\n",
    "\n",
    "\n",
    "    model = MLP()\n",
    "    # criterion = torch.nn.BCELoss()\n",
    "    criterion = torch.nn.MSELoss()\n",
    "    lr = 1e-4\n",
    "    # optimizer = torch.optim.SGD(model.parameters(), lr = lr)\n",
    "    optimizer = torch.optim.Adam(model.parameters(), lr = lr)\n",
    "    model.train()\n",
    "    epoch = 300\n",
    "    training_loss = []\n",
    "    for ep in tqdm(range(epoch), desc=\"Training\"):\n",
    "        \n",
    "        epoch_loss = 0\n",
    "        for i, (sample, label) in enumerate(train_dataset):\n",
    "            # Forward pass\n",
    "            preds = model(sample)\n",
    "            # Compute Loss\n",
    "            loss = model.objective(preds, label)\n",
    "        \n",
    "            epoch_loss = epoch_loss + loss.item()\n",
    "            \n",
    "            model.optimizer.zero_grad()\n",
    "            loss.backward()\n",
    "            model.optimizer.step()\n",
    "        \n",
    "        epoch_loss = epoch_loss / (i + 1)\n",
    "    \n",
    "        training_loss.append(epoch_loss)\n",
    "    \n",
    "\n",
    "    plt.figure()\n",
    "    plt.plot(training_loss)\n",
    "    plt.show()\n",
    "\n",
    "\n",
    "    model.eval()\n",
    "    all_labels, all_preds = [], []\n",
    "    \n",
    "    for i, (sample, label) in enumerate(test_dataset):\n",
    "        \n",
    "        preds = model(sample)\n",
    "        \n",
    "        all_preds.append(preds.detach().numpy())\n",
    "        all_labels.append(label.numpy())\n",
    "    \n",
    "    all_labels = np.asarray(all_labels)\n",
    "    all_preds = np.asarray(all_preds)\n",
    "    \n",
    "#     to_print = np.asarray([all_labels, all_preds])\n",
    "    \n",
    "    for i in range(100):\n",
    "        print(\"Target: \", all_labels[i, :])\n",
    "        print(\"Predict:\", all_preds[i, :], \"\\n\")\n",
    "    \n",
    "    \n",
    "    \n",
    "    error = 0\n",
    "    for i in range(all_labels.shape[0]):\n",
    "        error = error + np.linalg.norm(all_labels[i, :] - all_preds[i, :])\n",
    "\n",
    "    print(\"error:\", error/all_labels.shape[0])\n",
    "    return\n",
    "\n",
    "\n",
    "\n",
    "if __name__ == '__main__':\n",
    "    # Enviroment related parameters\n",
    "    temp_K = 293.15 # Environmental temperature in K\n",
    "    air_trans = np.array(pd.read_excel('./data/Test 2 - 21 Substances/Air transmittance.xlsx', header=None))\n",
    "    air_trans = air_trans[:, 1:]\n",
    "    atm_dist_ratio = 0.11 # Atomsphere distance ratio\n",
    "    air_RI = 1 # Refractive index of air\n",
    "\n",
    "    # Sensor related parameters\n",
    "    basis_funcs = np.array(pd.read_excel('./data/Test 2 - 21 Substances/Basis functions.xlsx', header=None))\n",
    "    basis_funcs = basis_funcs[:, 1:]\n",
    "    \n",
    "    # Substance related parameters\n",
    "    spectra = np.array(pd.read_excel('./data/Test 2 - 21 Substances/spectra.xlsx', header=None))\n",
    "    substances_emit = np.array(pd.read_excel('./data/Test 2 - 21 Substances/substances.xlsx', header=None))\n",
    "    substances_emit = substances_emit[:, [4, 16]]\n",
    "\n",
    "    mat_proportion = np.array(pd.read_excel('./data/Test 2 - 21 Substances/proportion_NN_test.xlsx', header=None)) # Material mixture proportion\n",
    "\n",
    "    data = []\n",
    "    labels = []\n",
    "    for i in range(mat_proportion.shape[1]):\n",
    "        weights = mat_proportion[:, i]\n",
    "        mat_em = np.average(substances_emit, weights=weights, axis=1)\n",
    "        mat_em = np.expand_dims(mat_em, 1)\n",
    "        out = simulator(spectra, mat_em, temp_K, air_trans, atm_dist_ratio, air_RI, basis_funcs)\n",
    "        data.append(out)\n",
    "        labels.append(weights)\n",
    "\n",
    "\n",
    "    percentage_test(data, labels)"
   ]
  }
 ],
 "metadata": {
  "kernelspec": {
   "display_name": "Python 3 (ipykernel)",
   "language": "python",
   "name": "python3"
  },
  "language_info": {
   "codemirror_mode": {
    "name": "ipython",
    "version": 3
   },
   "file_extension": ".py",
   "mimetype": "text/x-python",
   "name": "python",
   "nbconvert_exporter": "python",
   "pygments_lexer": "ipython3",
   "version": "3.8.15"
  },
  "vscode": {
   "interpreter": {
    "hash": "c425d01e3fe884931333939e0ad7960b908645cf1ab99418b036767927303f60"
   }
  }
 },
 "nbformat": 4,
 "nbformat_minor": 5
}
