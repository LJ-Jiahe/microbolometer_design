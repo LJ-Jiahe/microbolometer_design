{
 "cells": [
  {
   "cell_type": "code",
   "execution_count": 30,
   "id": "a5b1364f",
   "metadata": {
    "code_folding": [
     0
    ]
   },
   "outputs": [
    {
     "data": {
      "text/html": [
       "<style>.container { width:100% !important; }</style>"
      ],
      "text/plain": [
       "<IPython.core.display.HTML object>"
      ]
     },
     "metadata": {},
     "output_type": "display_data"
    },
    {
     "data": {
      "text/html": [
       "<style>.output_result { max-width:100% !important; }</style>"
      ],
      "text/plain": [
       "<IPython.core.display.HTML object>"
      ]
     },
     "metadata": {},
     "output_type": "display_data"
    }
   ],
   "source": [
    "# Appearance adjustment\n",
    "from IPython.display import display, HTML\n",
    "display(HTML(\"<style>.container { width:100% !important; }</style>\"))\n",
    "display(HTML(\"<style>.output_result { max-width:100% !important; }</style>\"))"
   ]
  },
  {
   "cell_type": "code",
   "execution_count": 31,
   "id": "a977f8fc",
   "metadata": {
    "code_folding": [
     0
    ]
   },
   "outputs": [],
   "source": [
    "# Imports\n",
    "import math\n",
    "\n",
    "import matplotlib.pyplot as plt\n",
    "import numpy as np\n",
    "import pandas as pd\n",
    "from sklearn.model_selection import KFold\n",
    "import torch\n",
    "import torch.nn as nn\n",
    "import torch.nn.functional as F\n",
    "from torch.utils.data import DataLoader, SubsetRandomSampler\n",
    "from tqdm.notebook import tqdm\n",
    "\n",
    "from simulator import simulator\n"
   ]
  },
  {
   "cell_type": "code",
   "execution_count": 32,
   "id": "5625f4db",
   "metadata": {
    "code_folding": [
     0
    ]
   },
   "outputs": [],
   "source": [
    "# Define - Dataset, Model, calc_acc, dataset_creation\n",
    "\n",
    "class Dataset(torch.utils.data.Dataset):\n",
    "    \n",
    "    def __init__(self, samples, labels):\n",
    "        \n",
    "        super(Dataset, self).__init__()\n",
    "        \n",
    "        self.create_dataset(samples, labels)\n",
    "        \n",
    "    def create_dataset(self, all_samples, all_labels):\n",
    "        \n",
    "        self.dataset = []\n",
    "        \n",
    "        for sample, label in zip(all_samples, all_labels):\n",
    "            self.dataset.append((torch.tensor(sample).float(), torch.tensor(label).float()))\n",
    "\n",
    "    def __getitem__(self, index):\n",
    "                                        \n",
    "        return self.dataset[index]                            \n",
    "        \n",
    "    def __len__(self):\n",
    "        \n",
    "        return len(self.dataset)\n",
    "\n",
    "\n",
    "    \n",
    "class MLP(nn.Module):\n",
    "\n",
    "    def __init__(self, num_in, num_out):\n",
    "        super().__init__()\n",
    "        \n",
    "        self.network = nn.Sequential(nn.Linear(num_in, 32),\n",
    "                                     nn.ReLU(),\n",
    "                                     nn.Linear(32, 32),\n",
    "                                     nn.ReLU(),\n",
    "                                     nn.Linear(32, num_out),\n",
    "                                     nn.Sigmoid(),\n",
    "                                     nn.Softmax())\n",
    "\n",
    "    def forward(self, x):\n",
    "        return self.network(x)\n",
    "\n",
    "    \n",
    "def calculate_accuracy(all_preds, all_labels):\n",
    "\n",
    "    accuracy = 0\n",
    "    for i, (pred, label) in enumerate(zip(all_preds, all_labels)):\n",
    "        \n",
    "        pred = np.argmax(pred)\n",
    "        \n",
    "        if(pred == label):\n",
    "            accuracy = accuracy + 1\n",
    "    \n",
    "    return accuracy / (i + 1)\n",
    "\n",
    "\n",
    "\n",
    "def ballsINTObins(m, n):\n",
    "    \n",
    "    if m==0:\n",
    "        return np.zeros((1, n))\n",
    "    \n",
    "    if n==1:\n",
    "        return np.asarray([m])\n",
    "    \n",
    "    all_rest = []\n",
    "    for i in range(m+1):\n",
    "        rest = ballsINTObins(m-i, n-1)\n",
    "        all_rest.append(np.c_[np.ones(rest.shape[0])*i, rest])\n",
    "    \n",
    "    result = np.concatenate(all_rest, axis=0)\n",
    "    return result"
   ]
  },
  {
   "cell_type": "code",
   "execution_count": 33,
   "id": "0f4d1921",
   "metadata": {
    "code_folding": []
   },
   "outputs": [],
   "source": [
    "# User assigined parameters\n",
    "\n",
    "class Parameters:\n",
    "    def __init__(self, air_trans_file, atm_dist_ratio, air_RI, basis_func_file,\n",
    "                 num_substances, spectra_file, substances_emit_file):\n",
    "        self.air_trans_file = air_trans_file\n",
    "        self.atm_dist_ratio = atm_dist_ratio\n",
    "        self.air_RI = air_RI\n",
    "        self.basis_func_file = basis_func_file\n",
    "        self.num_substances = num_substances\n",
    "        self.spectra_file = spectra_file\n",
    "        self.substances_emit_file = substances_emit_file\n",
    "        \n",
    "        \n",
    "        \n",
    "parameters = Parameters(air_trans_file='./data/Test 2 - 21 Substances/Air transmittance.xlsx',\n",
    "                        atm_dist_ratio=0.11,\n",
    "                        air_RI=1,\n",
    "                        basis_func_file='./data/Test 2 - 21 Substances/Basis functions.xlsx',\n",
    "                        num_substances=4,\n",
    "                        spectra_file='./data/Test 2 - 21 Substances/spectra.xlsx',\n",
    "                        substances_emit_file='./data/Test 2 - 21 Substances/substances.xlsx')\n",
    "\n"
   ]
  },
  {
   "cell_type": "code",
   "execution_count": 34,
   "id": "2b33ec51",
   "metadata": {
    "code_folding": [
     0
    ]
   },
   "outputs": [],
   "source": [
    "# Init dataset\n",
    "\n",
    "# Enviroment related parameters\n",
    "temp_K = 293.15 # Environmental temperature in K\n",
    "air_trans = np.array(pd.read_excel(parameters.air_trans_file, header=None))\n",
    "air_trans = air_trans[:, 1:]\n",
    "atm_dist_ratio = parameters.atm_dist_ratio # Atomsphere distance ratio\n",
    "air_RI = parameters.air_RI # Refractive index of air\n",
    "\n",
    "# Sensor related parameters\n",
    "basis_funcs = np.array(pd.read_excel(parameters.basis_func_file, header=None))\n",
    "basis_funcs = basis_funcs[:, 1:]\n",
    "\n",
    "# Substance related parameters\n",
    "num_substances = parameters.num_substances\n",
    "spectra = np.array(pd.read_excel(parameters.spectra_file, header=None))\n",
    "substances_emit = np.array(pd.read_excel(parameters.substances_emit_file, header=None))\n",
    "substances_emit = substances_emit[:, 0:parameters.num_substances]\n",
    "# Material mixture proportion\n",
    "mat_proportion = ballsINTObins(10, parameters.num_substances).transpose() / 10\n",
    "# mat_proportion = np.array(pd.read_excel('./data/Test 2 - 21 Substances/proportion_NN_test.xlsx', header=None))\n",
    "\n",
    "data = []\n",
    "labels = []\n",
    "for i in range(mat_proportion.shape[1]):\n",
    "    weights = mat_proportion[:, i]\n",
    "    mat_em = np.average(substances_emit, weights=weights, axis=1)\n",
    "    mat_em = np.expand_dims(mat_em, 1)\n",
    "    out = simulator(spectra, mat_em, temp_K, air_trans, atm_dist_ratio, air_RI, basis_funcs)\n",
    "    data.append(out)\n",
    "    labels.append(weights)\n"
   ]
  },
  {
   "cell_type": "code",
   "execution_count": 35,
   "id": "c6d7e4c6",
   "metadata": {
    "code_folding": []
   },
   "outputs": [],
   "source": [
    "# Training parameters\n",
    "\n",
    "device = torch.device(\"cuda:0\" if torch.cuda.is_available() else \"cpu\")\n",
    "device = torch.device(\"cpu\")\n",
    "\n",
    "torch.manual_seed(28)\n",
    "\n",
    "criterion = nn.MSELoss()\n",
    "\n",
    "dataset = Dataset(data, labels)\n",
    "\n",
    "batch_size = len(data) // 10\n",
    "train_percentage = 0.8\n",
    "learning_rate = 1e-3\n",
    "\n",
    "\n",
    "\n",
    "num_epochs = 500\n",
    "\n",
    "k = 5\n",
    "kfold = KFold(n_splits=k, shuffle=True)\n",
    "\n",
    "train_size = int(train_percentage * len(data))\n",
    "test_size = len(dataset) - train_size\n",
    "train_dataset, test_dataset = torch.utils.data.random_split(dataset, [train_size, test_size])"
   ]
  },
  {
   "cell_type": "code",
   "execution_count": 36,
   "id": "dc62e7d8",
   "metadata": {},
   "outputs": [],
   "source": [
    "# TEMP\n",
    "def RMSELoss(predict, target):\n",
    "    return torch.sqrt(torch.mean((predict-target)**2))"
   ]
  },
  {
   "cell_type": "code",
   "execution_count": 37,
   "id": "9f67f9df",
   "metadata": {
    "code_folding": []
   },
   "outputs": [],
   "source": [
    "# Epochs definition\n",
    "\n",
    "def train_epoch(model, device, dataloader, criterion, optimizer):\n",
    "    train_loss = 0\n",
    "    model.train()\n",
    "    for samples, labels in dataloader:\n",
    "        samples, labels = samples.to(device), labels.to(device)\n",
    "        optimizer.zero_grad()\n",
    "        output = model(samples)\n",
    "        loss = criterion(output, labels)\n",
    "        loss.backward()\n",
    "        optimizer.step()\n",
    "        train_loss += loss.item() * samples.size(0)\n",
    "        \n",
    "    return train_loss\n",
    "\n",
    "\n",
    "\n",
    "def valid_epoch(model, device, dataloader, criterion):\n",
    "    valid_loss = 0\n",
    "    similarity_list = []\n",
    "    diff_list = []\n",
    "    model.eval()\n",
    "    for samples, labels in dataloader:\n",
    "        samples, labels = samples.to(device), labels.to(device)\n",
    "        output = model(samples)\n",
    "        loss = criterion(output, labels)\n",
    "        valid_loss += loss.item() * samples.size(0)\n",
    "        \n",
    "        similarity = RMSELoss(output, labels)\n",
    "        similarity_list.append(similarity.item())\n",
    "        \n",
    "        diff = output - labels\n",
    "        diff_list.append(diff.detach().numpy())\n",
    "        \n",
    "    return valid_loss, similarity_list, diff_list"
   ]
  },
  {
   "cell_type": "code",
   "execution_count": null,
   "id": "ca8b9fa8",
   "metadata": {},
   "outputs": [],
   "source": []
  },
  {
   "cell_type": "code",
   "execution_count": 39,
   "id": "276ca7da",
   "metadata": {
    "scrolled": false
   },
   "outputs": [
    {
     "data": {
      "application/vnd.jupyter.widget-view+json": {
       "model_id": "70194e9c3f59474182579b6be006ac9e",
       "version_major": 2,
       "version_minor": 0
      },
      "text/plain": [
       "  0%|          | 0/500 [00:00<?, ?it/s]"
      ]
     },
     "metadata": {},
     "output_type": "display_data"
    },
    {
     "data": {
      "text/plain": [
       "Text(0, 0.5, 'MSE')"
      ]
     },
     "execution_count": 39,
     "metadata": {},
     "output_type": "execute_result"
    },
    {
     "data": {
      "image/png": "[encoded data removed]",
      "text/plain": [
       "<Figure size 432x288 with 1 Axes>"
      ]
     },
     "metadata": {
      "needs_background": "light"
     },
     "output_type": "display_data"
    }
   ],
   "source": [
    "# Train\n",
    "\n",
    "history = {'train_loss': [], 'test_loss': []}\n",
    "\n",
    "model = MLP(num_in=basis_funcs.shape[1], num_out=parameters.num_substances)\n",
    "model.to(device)\n",
    "\n",
    "train_loader = DataLoader(train_dataset, batch_size=batch_size, shuffle=True)\n",
    "test_loader = DataLoader(test_dataset, batch_size=1, shuffle=False)\n",
    "\n",
    "optimizer = torch.optim.Adam(model.parameters(), lr=learning_rate)\n",
    "\n",
    "\n",
    "for epoch in tqdm(range(num_epochs)):\n",
    "    train_loss = train_epoch(model, device, train_loader, criterion, optimizer)\n",
    "    test_loss, _, _ = valid_epoch(model, device, test_loader, criterion)\n",
    "    \n",
    "    train_loss = train_loss / len(train_dataset)\n",
    "    test_loss = test_loss / len(test_dataset)\n",
    "    \n",
    "    history['train_loss'].append(train_loss)\n",
    "    history['test_loss'].append(test_loss)\n",
    "\n",
    "plt.plot(history['train_loss'])\n",
    "plt.plot(history['test_loss'])\n",
    "plt.title('Train vs Test loss')\n",
    "plt.xlabel('Epoch')\n",
    "plt.ylabel('MSE')"
   ]
  },
  {
   "cell_type": "code",
   "execution_count": 40,
   "id": "95abc11e",
   "metadata": {},
   "outputs": [
    {
     "name": "stdout",
     "output_type": "stream",
     "text": [
      "[array([[ 0.07011498, -0.0203203 , -0.00913665, -0.04065806]],\n",
      "      dtype=float32), array([[ 0.07686477,  0.07431603,  0.0752412 , -0.22642201]],\n",
      "      dtype=float32), array([[ 0.07793128,  0.06768752, -0.09893051, -0.04668832]],\n",
      "      dtype=float32), array([[-0.26822177, -0.25512803,  0.37825155,  0.14509822]],\n",
      "      dtype=float32), array([[ 0.17444907,  0.07645141, -0.02432556, -0.2265749 ]],\n",
      "      dtype=float32), array([[-0.0489502 ,  0.1673766 , -0.2859172 ,  0.16749083]],\n",
      "      dtype=float32), array([[ 0.1426885 ,  0.13666166, -0.42061272,  0.1412626 ]],\n",
      "      dtype=float32), array([[-0.19858593, -0.21320999,  0.34012085,  0.07167508]],\n",
      "      dtype=float32), array([[-0.02867974, -0.33434057,  0.19160755,  0.1714128 ]],\n",
      "      dtype=float32), array([[-0.04233654, -0.01696226,  0.00601673,  0.05328202]],\n",
      "      dtype=float32), array([[-0.20200405, -0.15050988,  0.2976197 ,  0.05489428]],\n",
      "      dtype=float32), array([[ 0.17630287,  0.1745499 , -0.02522361, -0.32562912]],\n",
      "      dtype=float32), array([[-0.2464943 ,  0.1668442 ,  0.1670281 , -0.08737807]],\n",
      "      dtype=float32), array([[ 0.06987104,  0.04360177, -0.07304636, -0.04042649]],\n",
      "      dtype=float32), array([[-0.22999209,  0.0732911 , -0.01679385,  0.17349486]],\n",
      "      dtype=float32), array([[ 0.05037492, -0.02646875, -0.02503316,  0.001127  ]],\n",
      "      dtype=float32), array([[ 0.15323335,  0.01542827, -0.22214508,  0.05348352]],\n",
      "      dtype=float32), array([[ 0.16189075,  0.16836047, -0.3845258 ,  0.05427457]],\n",
      "      dtype=float32), array([[-0.15923375, -0.03663334,  0.12954009,  0.06632698]],\n",
      "      dtype=float32), array([[ 0.17282432, -0.01548129,  0.17290631, -0.33024937]],\n",
      "      dtype=float32), array([[ 0.1747183 , -0.52506673,  0.17561105,  0.17473738]],\n",
      "      dtype=float32), array([[-0.13530931,  0.07114535,  0.07991659, -0.01575258]],\n",
      "      dtype=float32), array([[ 0.13561222, -0.03940067,  0.03599475, -0.13220626]],\n",
      "      dtype=float32), array([[ 0.16093898,  0.10812687, -0.22625825, -0.04280764]],\n",
      "      dtype=float32), array([[ 0.0804706 ,  0.17369004,  0.17370372, -0.4278643 ]],\n",
      "      dtype=float32), array([[-0.1587623 , -0.22054818,  0.23802072,  0.14128968]],\n",
      "      dtype=float32), array([[-0.14811674, -0.14185983,  0.28039837,  0.00957814]],\n",
      "      dtype=float32), array([[ 0.15629163,  0.07700818, -0.23447171,  0.00117189]],\n",
      "      dtype=float32), array([[ 0.14131536,  0.07786068, -0.26063055,  0.04145455]],\n",
      "      dtype=float32), array([[ 0.11628937,  0.16545257, -0.13130043, -0.15044153]],\n",
      "      dtype=float32), array([[-0.13322315,  0.13510297,  0.13522267, -0.13710248]],\n",
      "      dtype=float32), array([[-0.05949692, -0.05163878, -0.02853128,  0.13966689]],\n",
      "      dtype=float32), array([[-0.00879678, -0.04710236,  0.00344518,  0.05245387]],\n",
      "      dtype=float32), array([[-0.22741961, -0.15511625,  0.23723471,  0.14530103]],\n",
      "      dtype=float32), array([[ 0.13924155,  0.0514321 , -0.15186432, -0.03880936]],\n",
      "      dtype=float32), array([[ 0.14130345,  0.147417  , -0.3292648 ,  0.04054444]],\n",
      "      dtype=float32), array([[ 0.17267543, -0.13066018, -0.11500496,  0.07298961]],\n",
      "      dtype=float32), array([[-0.24337292, -0.21652097,  0.3988944 ,  0.06099951]],\n",
      "      dtype=float32), array([[ 0.00646049,  0.15387851, -0.31429753,  0.1539585 ]],\n",
      "      dtype=float32), array([[-0.13283068, -0.05532984,  0.04333293,  0.14482753]],\n",
      "      dtype=float32), array([[ 0.05467704,  0.13675025,  0.03703297, -0.22846034]],\n",
      "      dtype=float32), array([[ 0.13473117, -0.13482255,  0.1348137 , -0.13472232]],\n",
      "      dtype=float32), array([[-0.04751289, -0.05764373,  0.0607914 ,  0.04436525]],\n",
      "      dtype=float32), array([[-0.04923345, -0.04151165,  0.11230253, -0.02155744]],\n",
      "      dtype=float32), array([[ 0.16587013,  0.04949766, -0.18651283, -0.02885497]],\n",
      "      dtype=float32), array([[ 0.05317108,  0.04855939, -0.09348927, -0.00824118]],\n",
      "      dtype=float32), array([[ 0.16675965, -0.14675838, -0.18678787,  0.16678661]],\n",
      "      dtype=float32), array([[-0.32575244,  0.07450887,  0.17539017,  0.07585337]],\n",
      "      dtype=float32), array([[-0.22012171, -0.2345044 ,  0.39447775,  0.06014837]],\n",
      "      dtype=float32), array([[ 0.07349139, -0.02189818,  0.07803302, -0.12962627]],\n",
      "      dtype=float32), array([[-0.05652288, -0.03394781, -0.06906724,  0.15953788]],\n",
      "      dtype=float32), array([[-0.14026967, -0.15914057,  0.27742082,  0.02198946]],\n",
      "      dtype=float32), array([[ 0.0599971 , -0.05985783,  0.06549516, -0.06563446]],\n",
      "      dtype=float32), array([[ 0.16369018,  0.1560053 , -0.28370017, -0.03599529]],\n",
      "      dtype=float32), array([[ 0.05128383, -0.09085745,  0.05760326, -0.01802969]],\n",
      "      dtype=float32), array([[-0.14710543, -0.28524238,  0.2793084 ,  0.15303937]],\n",
      "      dtype=float32), array([[ 0.07588891,  0.07465705,  0.17478558, -0.32533148]],\n",
      "      dtype=float32), array([[ 0.05596913, -0.00027826, -0.0618259 ,  0.00613505]],\n",
      "      dtype=float32)]\n",
      "[[7.0114978e-02 2.0320296e-02 9.1366470e-03 4.0658057e-02]\n",
      " [7.6864772e-02 7.4316032e-02 7.5241201e-02 2.2642201e-01]\n",
      " [7.7931277e-02 6.7687519e-02 9.8930508e-02 4.6688318e-02]\n",
      " [2.6822177e-01 2.5512803e-01 3.7825155e-01 1.4509822e-01]\n",
      " [1.7444907e-01 7.6451413e-02 2.4325565e-02 2.2657490e-01]\n",
      " [4.8950195e-02 1.6737659e-01 2.8591719e-01 1.6749083e-01]\n",
      " [1.4268850e-01 1.3666166e-01 4.2061272e-01 1.4126261e-01]\n",
      " [1.9858593e-01 2.1320999e-01 3.4012085e-01 7.1675085e-02]\n",
      " [2.8679743e-02 3.3434057e-01 1.9160755e-01 1.7141280e-01]\n",
      " [4.2336538e-02 1.6962260e-02 6.0167313e-03 5.3282015e-02]\n",
      " [2.0200405e-01 1.5050988e-01 2.9761970e-01 5.4894276e-02]\n",
      " [1.7630287e-01 1.7454991e-01 2.5223613e-02 3.2562912e-01]\n",
      " [2.4649429e-01 1.6684420e-01 1.6702810e-01 8.7378070e-02]\n",
      " [6.9871038e-02 4.3601774e-02 7.3046356e-02 4.0426493e-02]\n",
      " [2.2999209e-01 7.3291101e-02 1.6793847e-02 1.7349486e-01]\n",
      " [5.0374918e-02 2.6468754e-02 2.5033161e-02 1.1270046e-03]\n",
      " [1.5323335e-01 1.5428275e-02 2.2214508e-01 5.3483523e-02]\n",
      " [1.6189075e-01 1.6836047e-01 3.8452581e-01 5.4274566e-02]\n",
      " [1.5923375e-01 3.6633343e-02 1.2954009e-01 6.6326983e-02]\n",
      " [1.7282432e-01 1.5481293e-02 1.7290631e-01 3.3024937e-01]\n",
      " [1.7471831e-01 5.2506673e-01 1.7561105e-01 1.7473738e-01]\n",
      " [1.3530931e-01 7.1145348e-02 7.9916589e-02 1.5752584e-02]\n",
      " [1.3561222e-01 3.9400667e-02 3.5994746e-02 1.3220626e-01]\n",
      " [1.6093898e-01 1.0812687e-01 2.2625825e-01 4.2807639e-02]\n",
      " [8.0470599e-02 1.7369004e-01 1.7370372e-01 4.2786431e-01]\n",
      " [1.5876231e-01 2.2054818e-01 2.3802072e-01 1.4128968e-01]\n",
      " [1.4811674e-01 1.4185983e-01 2.8039837e-01 9.5781386e-03]\n",
      " [1.5629163e-01 7.7008180e-02 2.3447171e-01 1.1718869e-03]\n",
      " [1.4131536e-01 7.7860683e-02 2.6063055e-01 4.1454546e-02]\n",
      " [1.1628937e-01 1.6545257e-01 1.3130043e-01 1.5044153e-01]\n",
      " [1.3322315e-01 1.3510297e-01 1.3522267e-01 1.3710248e-01]\n",
      " [5.9496924e-02 5.1638782e-02 2.8531283e-02 1.3966689e-01]\n",
      " [8.7967813e-03 4.7102362e-02 3.4451783e-03 5.2453868e-02]\n",
      " [2.2741961e-01 1.5511625e-01 2.3723471e-01 1.4530103e-01]\n",
      " [1.3924155e-01 5.1432103e-02 1.5186432e-01 3.8809359e-02]\n",
      " [1.4130345e-01 1.4741699e-01 3.2926479e-01 4.0544443e-02]\n",
      " [1.7267543e-01 1.3066018e-01 1.1500496e-01 7.2989605e-02]\n",
      " [2.4337292e-01 2.1652097e-01 3.9889440e-01 6.0999505e-02]\n",
      " [6.4604878e-03 1.5387851e-01 3.1429753e-01 1.5395850e-01]\n",
      " [1.3283068e-01 5.5329844e-02 4.3332934e-02 1.4482753e-01]\n",
      " [5.4677039e-02 1.3675025e-01 3.7032969e-02 2.2846034e-01]\n",
      " [1.3473117e-01 1.3482255e-01 1.3481370e-01 1.3472232e-01]\n",
      " [4.7512889e-02 5.7643726e-02 6.0791403e-02 4.4365250e-02]\n",
      " [4.9233451e-02 4.1511655e-02 1.1230253e-01 2.1557435e-02]\n",
      " [1.6587013e-01 4.9497664e-02 1.8651283e-01 2.8854966e-02]\n",
      " [5.3171083e-02 4.8559390e-02 9.3489274e-02 8.2411766e-03]\n",
      " [1.6675965e-01 1.4675838e-01 1.8678787e-01 1.6678661e-01]\n",
      " [3.2575244e-01 7.4508868e-02 1.7539017e-01 7.5853370e-02]\n",
      " [2.2012171e-01 2.3450440e-01 3.9447775e-01 6.0148373e-02]\n",
      " [7.3491387e-02 2.1898180e-02 7.8033023e-02 1.2962627e-01]\n",
      " [5.6522876e-02 3.3947811e-02 6.9067240e-02 1.5953788e-01]\n",
      " [1.4026967e-01 1.5914057e-01 2.7742082e-01 2.1989465e-02]\n",
      " [5.9997104e-02 5.9857830e-02 6.5495156e-02 6.5634459e-02]\n",
      " [1.6369018e-01 1.5600529e-01 2.8370017e-01 3.5995290e-02]\n",
      " [5.1283829e-02 9.0857446e-02 5.7603262e-02 1.8029690e-02]\n",
      " [1.4710543e-01 2.8524238e-01 2.7930841e-01 1.5303937e-01]\n",
      " [7.5888909e-02 7.4657045e-02 1.7478558e-01 3.2533148e-01]\n",
      " [5.5969127e-02 2.7826428e-04 6.1825901e-02 6.1350465e-03]]\n"
     ]
    },
    {
     "data": {
      "text/plain": [
       "{'whiskers': [<matplotlib.lines.Line2D at 0x2a0ba9945b0>,\n",
       "  <matplotlib.lines.Line2D at 0x2a0ba994880>,\n",
       "  <matplotlib.lines.Line2D at 0x2a0ba98ee50>,\n",
       "  <matplotlib.lines.Line2D at 0x2a0b9ed6220>,\n",
       "  <matplotlib.lines.Line2D at 0x2a0b9eb67c0>,\n",
       "  <matplotlib.lines.Line2D at 0x2a0b9eb6b50>,\n",
       "  <matplotlib.lines.Line2D at 0x2a0b9ea7130>,\n",
       "  <matplotlib.lines.Line2D at 0x2a0b9ea74c0>],\n",
       " 'caps': [<matplotlib.lines.Line2D at 0x2a0ba994c10>,\n",
       "  <matplotlib.lines.Line2D at 0x2a0ba994fa0>,\n",
       "  <matplotlib.lines.Line2D at 0x2a0b9ed65b0>,\n",
       "  <matplotlib.lines.Line2D at 0x2a0b9ed6940>,\n",
       "  <matplotlib.lines.Line2D at 0x2a0b9eb6ee0>,\n",
       "  <matplotlib.lines.Line2D at 0x2a0b9ea12b0>,\n",
       "  <matplotlib.lines.Line2D at 0x2a0b9ea7850>,\n",
       "  <matplotlib.lines.Line2D at 0x2a0b9ea7be0>],\n",
       " 'boxes': [<matplotlib.lines.Line2D at 0x2a0ba994280>,\n",
       "  <matplotlib.lines.Line2D at 0x2a0ba98eac0>,\n",
       "  <matplotlib.lines.Line2D at 0x2a0b9eb6430>,\n",
       "  <matplotlib.lines.Line2D at 0x2a0b9ea1d60>],\n",
       " 'medians': [<matplotlib.lines.Line2D at 0x2a0ba98e370>,\n",
       "  <matplotlib.lines.Line2D at 0x2a0b9ed6cd0>,\n",
       "  <matplotlib.lines.Line2D at 0x2a0b9ea1640>,\n",
       "  <matplotlib.lines.Line2D at 0x2a0b9ea7f70>],\n",
       " 'fliers': [<matplotlib.lines.Line2D at 0x2a0ba98e700>,\n",
       "  <matplotlib.lines.Line2D at 0x2a0b9eb60a0>,\n",
       "  <matplotlib.lines.Line2D at 0x2a0b9ea19d0>,\n",
       "  <matplotlib.lines.Line2D at 0x2a0b9eb7340>],\n",
       " 'means': []}"
      ]
     },
     "execution_count": 40,
     "metadata": {},
     "output_type": "execute_result"
    },
    {
     "data": {
      "image/png": "[encoded data removed]",
      "text/plain": [
       "<Figure size 432x288 with 1 Axes>"
      ]
     },
     "metadata": {
      "needs_background": "light"
     },
     "output_type": "display_data"
    }
   ],
   "source": [
    "# Calculate Similarity between prediction and target\n",
    "\n",
    "test_loss, similarity_list, diff_list = valid_epoch(model, device, test_loader, criterion)\n",
    "\n",
    "# plt.hist(similarity_list, bins=10)\n",
    "# print(diff_list)\n",
    "temp = np.asarray(diff_list)\n",
    "temp = np.squeeze(temp)\n",
    "temp = np.abs(temp)\n",
    "print(temp)\n",
    "\n",
    "plt.boxplot(temp)"
   ]
  },
  {
   "cell_type": "code",
   "execution_count": 143,
   "id": "4fd2ec5e",
   "metadata": {
    "code_folding": [
     0
    ],
    "scrolled": true
   },
   "outputs": [
    {
     "name": "stdout",
     "output_type": "stream",
     "text": [
      "\n",
      "FOLD 1\n",
      "--------------------------------\n"
     ]
    },
    {
     "name": "stderr",
     "output_type": "stream",
     "text": [
      "/usr/local/Caskroom/miniconda/base/envs/nn/lib/python3.8/site-packages/torch/nn/modules/container.py:139: UserWarning: Implicit dimension choice for softmax has been deprecated. Change the call to include dim=X as an argument.\n",
      "  input = module(input)\n"
     ]
    },
    {
     "name": "stdout",
     "output_type": "stream",
     "text": [
      "\n",
      "FOLD 2\n",
      "--------------------------------\n",
      "\n",
      "FOLD 3\n",
      "--------------------------------\n",
      "\n",
      "FOLD 4\n",
      "--------------------------------\n",
      "\n",
      "FOLD 5\n",
      "--------------------------------\n"
     ]
    }
   ],
   "source": [
    "# Train - k fold\n",
    "\n",
    "history = {'train_loss': [], 'valid_loss': []}\n",
    "\n",
    "for fold, (train_ids, valid_ids) in enumerate(kfold.split(train_dataset)):\n",
    "    print(f'\\nFOLD {fold + 1}')\n",
    "    print('--------------------------------')\n",
    "    train_subsampler = SubsetRandomSampler(train_ids)\n",
    "    valid_subsampler = SubsetRandomSampler(valid_ids)\n",
    "    train_loader = DataLoader(train_dataset, batch_size=batch_size, sampler=train_subsampler)\n",
    "    valid_loader = DataLoader(train_dataset, batch_size=batch_size, sampler=valid_subsampler)\n",
    "    \n",
    "    model = MLP(num_in=basis_funcs.shape[1], num_out=parameters.num_substances)\n",
    "    model.to(device)\n",
    "    optimizer = torch.optim.Adam(model.parameters(), lr=learning_rate)\n",
    "    \n",
    "    for epoch in range(num_epochs):\n",
    "        train_loss = train_epoch(model, device, train_loader, criterion, optimizer)\n",
    "        valid_loss = valid_epoch(model, device, valid_loader, criterion)\n",
    "        \n",
    "        train_loss = train_loss / len(train_loader.sampler)\n",
    "        valid_loss = valid_loss / len(valid_loader.sampler)\n",
    "        \n",
    "#         print(\"Epoch:{}/{} AVG Training Loss:{:.3f} AVG Valid Loss:{:.3f} \".format(epoch + 1,\n",
    "#                                                                                    num_epochs,\n",
    "#                                                                                    train_loss,\n",
    "#                                                                                    valid_loss))\n",
    "        history['train_loss'].append(train_loss)\n",
    "        history['valid_loss'].append(valid_loss)"
   ]
  },
  {
   "cell_type": "code",
   "execution_count": 144,
   "id": "d56d106c",
   "metadata": {},
   "outputs": [
    {
     "data": {
      "text/plain": [
       "[<matplotlib.lines.Line2D at 0x7ff52f6c72e0>]"
      ]
     },
     "execution_count": 144,
     "metadata": {},
     "output_type": "execute_result"
    },
    {
     "data": {
      "image/png": "[encoded data removed]",
      "text/plain": [
       "<Figure size 640x480 with 1 Axes>"
      ]
     },
     "metadata": {},
     "output_type": "display_data"
    }
   ],
   "source": [
    "plt.plot(history['train_loss'])\n",
    "plt.plot(history['valid_loss'])"
   ]
  },
  {
   "cell_type": "code",
   "execution_count": 136,
   "id": "57b26073",
   "metadata": {},
   "outputs": [
    {
     "name": "stdout",
     "output_type": "stream",
     "text": [
      "[[0.  0.  0.  0.  1. ]\n",
      " [0.  0.  0.  0.1 0.9]\n",
      " [0.  0.  0.  0.2 0.8]\n",
      " ...\n",
      " [0.9 0.  0.1 0.  0. ]\n",
      " [0.9 0.1 0.  0.  0. ]\n",
      " [1.  0.  0.  0.  0. ]]\n"
     ]
    }
   ],
   "source": [
    "lbls = np.asarray(labels)\n",
    "print(lbls)"
   ]
  },
  {
   "cell_type": "code",
   "execution_count": 114,
   "id": "e35787ec",
   "metadata": {
    "scrolled": false
   },
   "outputs": [
    {
     "data": {
      "application/vnd.jupyter.widget-view+json": {
       "model_id": "45c0ff6f591442558a63dac164c6c491",
       "version_major": 2,
       "version_minor": 0
      },
      "text/plain": [
       "  0%|          | 0/2000 [00:00<?, ?it/s]"
      ]
     },
     "metadata": {},
     "output_type": "display_data"
    },
    {
     "name": "stdout",
     "output_type": "stream",
     "text": [
      "0.14412686734742866\n"
     ]
    },
    {
     "data": {
      "text/plain": [
       "[<matplotlib.lines.Line2D at 0x7ff579761310>]"
      ]
     },
     "execution_count": 114,
     "metadata": {},
     "output_type": "execute_result"
    },
    {
     "data": {
      "image/png": "[encoded data removed]",
      "text/plain": [
       "<Figure size 640x480 with 1 Axes>"
      ]
     },
     "metadata": {},
     "output_type": "display_data"
    }
   ],
   "source": [
    "# Random guesser\n",
    "\n",
    "\n",
    "epoch = 2000\n",
    "\n",
    "error = []\n",
    "avg_error = []\n",
    "\n",
    "\n",
    "for i in tqdm(range(epoch)):\n",
    "    \n",
    "    target_loader = DataLoader(dataset, batch_size=1, shuffle=True)\n",
    "    pred_loader = DataLoader(dataset, batch_size=1, shuffle=True)\n",
    "    pred_loader_iter = iter(pred_loader)\n",
    "\n",
    "    for x, target in target_loader:\n",
    "\n",
    "        xx, pred = next(pred_loader_iter)\n",
    "\n",
    "        error.append(criterion(pred, target).item())\n",
    "        \n",
    "    avg_error.append(np.mean(error))\n",
    "\n",
    "print(avg_error[-1])\n",
    "plt.plot(avg_error)\n",
    "\n",
    "# criterion(dataset.dataset, dataset.labels)\n"
   ]
  },
  {
   "cell_type": "code",
   "execution_count": 115,
   "id": "6b1bdae9",
   "metadata": {},
   "outputs": [],
   "source": [
    "import pickle\n",
    "\n",
    "filename = str(parameters.num_substances) + '_subs_random_avg_error'\n",
    "\n",
    "with open(filename, 'wb') as fp:\n",
    "    pickle.dump(avg_error, fp)"
   ]
  },
  {
   "cell_type": "code",
   "execution_count": 119,
   "id": "c5bbd9c2",
   "metadata": {},
   "outputs": [
    {
     "name": "stdout",
     "output_type": "stream",
     "text": [
      "0.14412686734742866\n"
     ]
    },
    {
     "data": {
      "text/plain": [
       "Text(0.5, 1.0, '3 subs random avg error')"
      ]
     },
     "execution_count": 119,
     "metadata": {},
     "output_type": "execute_result"
    },
    {
     "data": {
      "image/png": "[encoded data removed]",
      "text/plain": [
       "<Figure size 640x480 with 1 Axes>"
      ]
     },
     "metadata": {},
     "output_type": "display_data"
    }
   ],
   "source": [
    "\n",
    "with open ('3_subs_random_avg_error', 'rb') as fp:\n",
    "    avg_error = pickle.load(fp)\n",
    "\n",
    "print(avg_error[-1])\n",
    "plt.plot(avg_error)\n",
    "plt.title('3 subs random avg error')"
   ]
  },
  {
   "cell_type": "code",
   "execution_count": null,
   "id": "6e5f1634",
   "metadata": {
    "code_folding": [],
    "scrolled": false
   },
   "outputs": [],
   "source": [
    "# Train\n",
    "\n",
    "# Parameters\n",
    "batch_size = len(data) // 10\n",
    "train_percentage = 0.8\n",
    "learning_rate = 1e-3\n",
    "\n",
    "dataset = Dataset(data, labels)\n",
    "\n",
    "train_size = int(train_percentage * len(data))\n",
    "test_size = len(dataset) - train_size\n",
    "\n",
    "# train_dataset, test_dataset = torch.utils.data.random_split(dataset, [train_size, test_size])\n",
    "\n",
    "# temp for test\n",
    "train_dataset, test_dataset = dataset, dataset\n",
    "\n",
    "train_loader = DataLoader(train_dataset, batch_size = batch_size, shuffle = True)\n",
    "test_loader = DataLoader(test_dataset, batch_size = 1, shuffle = False)\n",
    "\n",
    "\n",
    "model = MLP(lr=learning_rate, num_in=basis_funcs.shape[1], num_out=num_substance)\n",
    "# criterion = torch.nn.BCELoss()\n",
    "criterion = torch.nn.MSELoss()\n",
    "# optimizer = torch.optim.SGD(model.parameters(), lr = lr)\n",
    "optimizer = torch.optim.Adam(model.parameters(), lr = learning_rate)\n",
    "model.train()\n",
    "epoch = 1000\n",
    "training_loss = []\n",
    "for ep in tqdm(range(epoch), desc=\"Training\"):\n",
    "\n",
    "    epoch_loss = 0\n",
    "    for i, (sample, label) in enumerate(train_dataset):\n",
    "        # Forward pass\n",
    "        preds = model(sample)\n",
    "        # Compute Loss\n",
    "        loss = model.objective(preds, label)\n",
    "\n",
    "        epoch_loss = epoch_loss + loss.item()\n",
    "\n",
    "        model.optimizer.zero_grad()\n",
    "        loss.backward()\n",
    "        model.optimizer.step()\n",
    "\n",
    "    epoch_loss = epoch_loss / (i + 1)\n",
    "\n",
    "    training_loss.append(epoch_loss)\n",
    "\n",
    "\n",
    "plt.figure()\n",
    "plt.plot(training_loss)\n",
    "plt.show()\n",
    "\n",
    "\n",
    "model.eval()\n",
    "all_labels, all_preds = [], []\n",
    "\n",
    "for i, (sample, label) in enumerate(test_dataset):\n",
    "\n",
    "    preds = model(sample)\n",
    "\n",
    "    all_preds.append(preds.detach().numpy())\n",
    "    all_labels.append(label.numpy())\n",
    "\n",
    "all_labels = np.asarray(all_labels)\n",
    "all_preds = np.asarray(all_preds)\n",
    "\n",
    "\n",
    "#     to_print = np.asarray([all_labels, all_preds])\n",
    "np.set_printoptions(formatter={'float': '{: 0.2f}'.format})\n",
    "for i in range(10):\n",
    "    print(\"Target: \", all_labels[i, :])\n",
    "    print(\"Predict:\", all_preds[i, :], '\\n')\n",
    "\n",
    "\n",
    "\n",
    "error = 0\n",
    "for i in range(all_labels.shape[0]):\n",
    "    error = error + np.linalg.norm(all_labels[i, :] - all_preds[i, :])\n",
    "\n",
    "print(\"error:\", error/all_labels.shape[0])"
   ]
  },
  {
   "cell_type": "code",
   "execution_count": null,
   "id": "fff50229",
   "metadata": {},
   "outputs": [],
   "source": []
  },
  {
   "cell_type": "code",
   "execution_count": null,
   "id": "72a7ba31-9083-449c-ac06-dd5aed91933e",
   "metadata": {
    "code_folding": [
     0
    ],
    "scrolled": false
   },
   "outputs": [],
   "source": [
    "# Run\n",
    "\n",
    "def percentage_test(x, y):\n",
    "    \n",
    "    batch_size = 20\n",
    "    \n",
    "    dataset = Dataset(x, y)\n",
    "    \n",
    "#     x = torch.FloatTensor(x)\n",
    "#     y = torch.FloatTensor(y)\n",
    "    \n",
    "    train_size = int(0.8 * len(x))\n",
    "    test_size = len(dataset) - train_size\n",
    "    \n",
    "    train_dataset, test_dataset = torch.utils.data.random_split(dataset, [train_size, test_size])\n",
    "    \n",
    "    train_loader = torch.utils.data.DataLoader(train_dataset, batch_size = batch_size, shuffle = True)\n",
    "    test_loader = torch.utils.data.DataLoader(test_dataset, batch_size = 1, shuffle = False)\n",
    "\n",
    "\n",
    "    model = MLP()\n",
    "    # criterion = torch.nn.BCELoss()\n",
    "    criterion = torch.nn.MSELoss()\n",
    "    lr = 1e-4\n",
    "    # optimizer = torch.optim.SGD(model.parameters(), lr = lr)\n",
    "    optimizer = torch.optim.Adam(model.parameters(), lr = lr)\n",
    "    model.train()\n",
    "    epoch = 300\n",
    "    training_loss = []\n",
    "    for ep in tqdm(range(epoch), desc=\"Training\"):\n",
    "        \n",
    "        epoch_loss = 0\n",
    "        for i, (sample, label) in enumerate(train_dataset):\n",
    "            # Forward pass\n",
    "            preds = model(sample)\n",
    "            # Compute Loss\n",
    "            loss = model.objective(preds, label)\n",
    "        \n",
    "            epoch_loss = epoch_loss + loss.item()\n",
    "            \n",
    "            model.optimizer.zero_grad()\n",
    "            loss.backward()\n",
    "            model.optimizer.step()\n",
    "        \n",
    "        epoch_loss = epoch_loss / (i + 1)\n",
    "    \n",
    "        training_loss.append(epoch_loss)\n",
    "    \n",
    "\n",
    "    plt.figure()\n",
    "    plt.plot(training_loss)\n",
    "    plt.show()\n",
    "\n",
    "\n",
    "    model.eval()\n",
    "    all_labels, all_preds = [], []\n",
    "    \n",
    "    for i, (sample, label) in enumerate(test_dataset):\n",
    "        \n",
    "        preds = model(sample)\n",
    "        \n",
    "        all_preds.append(preds.detach().numpy())\n",
    "        all_labels.append(label.numpy())\n",
    "    \n",
    "    all_labels = np.asarray(all_labels)\n",
    "    all_preds = np.asarray(all_preds)\n",
    "    \n",
    "#     to_print = np.asarray([all_labels, all_preds])\n",
    "    \n",
    "    for i in range(100):\n",
    "        print(\"Target: \", all_labels[i, :])\n",
    "        print(\"Predict:\", all_preds[i, :], \"\\n\")\n",
    "    \n",
    "    \n",
    "    \n",
    "    error = 0\n",
    "    for i in range(all_labels.shape[0]):\n",
    "        error = error + np.linalg.norm(all_labels[i, :] - all_preds[i, :])\n",
    "\n",
    "    print(\"error:\", error/all_labels.shape[0])\n",
    "    return\n",
    "\n",
    "\n",
    "\n",
    "if __name__ == '__main__':\n",
    "    # Enviroment related parameters\n",
    "    temp_K = 293.15 # Environmental temperature in K\n",
    "    air_trans = np.array(pd.read_excel('./data/Test 2 - 21 Substances/Air transmittance.xlsx', header=None))\n",
    "    air_trans = air_trans[:, 1:]\n",
    "    atm_dist_ratio = 0.11 # Atomsphere distance ratio\n",
    "    air_RI = 1 # Refractive index of air\n",
    "\n",
    "    # Sensor related parameters\n",
    "    basis_funcs = np.array(pd.read_excel('./data/Test 2 - 21 Substances/Basis functions.xlsx', header=None))\n",
    "    basis_funcs = basis_funcs[:, 1:]\n",
    "    \n",
    "    # Substance related parameters\n",
    "    spectra = np.array(pd.read_excel('./data/Test 2 - 21 Substances/spectra.xlsx', header=None))\n",
    "    substances_emit = np.array(pd.read_excel('./data/Test 2 - 21 Substances/substances.xlsx', header=None))\n",
    "    substances_emit = substances_emit[:, [4, 16]]\n",
    "\n",
    "    mat_proportion = np.array(pd.read_excel('./data/Test 2 - 21 Substances/proportion_NN_test.xlsx', header=None)) # Material mixture proportion\n",
    "\n",
    "    data = []\n",
    "    labels = []\n",
    "    for i in range(mat_proportion.shape[1]):\n",
    "        weights = mat_proportion[:, i]\n",
    "        mat_em = np.average(substances_emit, weights=weights, axis=1)\n",
    "        mat_em = np.expand_dims(mat_em, 1)\n",
    "        out = simulator(spectra, mat_em, temp_K, air_trans, atm_dist_ratio, air_RI, basis_funcs)\n",
    "        data.append(out)\n",
    "        labels.append(weights)\n",
    "\n",
    "\n",
    "    percentage_test(data, labels)"
   ]
  }
 ],
 "metadata": {
  "kernelspec": {
   "display_name": "Python 3",
   "language": "python",
   "name": "python3"
  },
  "language_info": {
   "codemirror_mode": {
    "name": "ipython",
    "version": 3
   },
   "file_extension": ".py",
   "mimetype": "text/x-python",
   "name": "python",
   "nbconvert_exporter": "python",
   "pygments_lexer": "ipython3",
   "version": "3.8.10"
  },
  "vscode": {
   "interpreter": {
    "hash": "c425d01e3fe884931333939e0ad7960b908645cf1ab99418b036767927303f60"
   }
  }
 },
 "nbformat": 4,
 "nbformat_minor": 5
}
