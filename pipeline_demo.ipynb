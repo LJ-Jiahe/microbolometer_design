{
 "cells": [
  {
   "cell_type": "code",
   "execution_count": 4,
   "id": "a5b1364f",
   "metadata": {
    "code_folding": [
     0
    ]
   },
   "outputs": [
    {
     "data": {
      "text/html": [
       "<style>.container { width:100% !important; }</style>"
      ],
      "text/plain": [
       "<IPython.core.display.HTML object>"
      ]
     },
     "metadata": {},
     "output_type": "display_data"
    },
    {
     "data": {
      "text/html": [
       "<style>.output_result { max-width:100% !important; }</style>"
      ],
      "text/plain": [
       "<IPython.core.display.HTML object>"
      ]
     },
     "metadata": {},
     "output_type": "display_data"
    }
   ],
   "source": [
    "# Appearance adjustment\n",
    "from IPython.display import display, HTML\n",
    "display(HTML(\"<style>.container { width:100% !important; }</style>\"))\n",
    "display(HTML(\"<style>.output_result { max-width:100% !important; }</style>\"))"
   ]
  },
  {
   "cell_type": "code",
   "execution_count": 1,
   "id": "a977f8fc",
   "metadata": {
    "code_folding": []
   },
   "outputs": [],
   "source": [
    "# Imports\n",
    "import math\n",
    "\n",
    "import matplotlib.pyplot as plt\n",
    "import numpy as np\n",
    "import pandas as pd\n",
    "from sklearn.model_selection import KFold\n",
    "import torch\n",
    "import torch.nn as nn\n",
    "import torch.nn.functional as F\n",
    "from torch.utils.data import DataLoader, SubsetRandomSampler\n",
    "from tqdm.notebook import tqdm\n",
    "\n",
    "from tools import ballsINTObins, RMSELoss, train_epoch, valid_epoch, test_epoch, simulator\n"
   ]
  },
  {
   "cell_type": "code",
   "execution_count": 2,
   "id": "5625f4db",
   "metadata": {
    "code_folding": []
   },
   "outputs": [],
   "source": [
    "# Define - Dataset, Model, calc_acc, dataset_creation, Sim Params Class, RMSELoss\n",
    "    \n",
    "class Dataset(torch.utils.data.Dataset):\n",
    "    \n",
    "    def __init__(self, samples, labels):\n",
    "        \n",
    "        super(Dataset, self).__init__()\n",
    "\n",
    "        self.dataset = []\n",
    "        \n",
    "        for sample, label in zip(samples, labels):\n",
    "            self.dataset.append((torch.tensor(sample).float(), torch.tensor(label).float()))\n",
    "\n",
    "    def __getitem__(self, index):\n",
    "                                        \n",
    "        return self.dataset[index]\n",
    "        \n",
    "    def __len__(self):\n",
    "        \n",
    "        return len(self.dataset)\n",
    "\n",
    "\n",
    "    \n",
    "class MLP(nn.Module):\n",
    "\n",
    "    def __init__(self, num_in, num_out):\n",
    "        super().__init__()\n",
    "        \n",
    "        self.network = nn.Sequential(nn.Linear(num_in, 32),\n",
    "                                     nn.ReLU(),\n",
    "                                     nn.Dropout(0.2),\n",
    "                                     nn.Linear(32, 64),\n",
    "                                     nn.ReLU(),\n",
    "                                     nn.Dropout(0.2),\n",
    "                                     nn.Linear(64, 64),\n",
    "                                     nn.ReLU(),\n",
    "                                     nn.Dropout(0.2),\n",
    "                                     nn.Linear(64, num_out),\n",
    "                                     nn.Sigmoid())\n",
    "        \n",
    "#         !!!!!!!!!!!!!!!!!!!!!!!!!!!!!!!!!!!!!!!!!!!!!!!!!!!!!!!!!\n",
    "#         Add Drop out\n",
    "#         !!!!!!!!!!!!!!!!!!!!!!!!!!!!!!!!!!!!!!!!!!!!!!!!!!!!!!!!!\n",
    "\n",
    "\n",
    "    def forward(self, x):\n",
    "        return self.network(x)\n",
    "\n",
    "    \n",
    "    \n",
    "# def calculate_accuracy(all_preds, all_labels):\n",
    "\n",
    "#     accuracy = 0\n",
    "#     for i, (pred, label) in enumerate(zip(all_preds, all_labels)):\n",
    "        \n",
    "#         pred = np.argmax(pred)\n",
    "        \n",
    "#         if(pred == label):\n",
    "#             accuracy = accuracy + 1\n",
    "    \n",
    "#     return accuracy / (i + 1)\n",
    "\n",
    "\n",
    "\n",
    "def ballsINTObins(m, n):\n",
    "\n",
    "    if m==0:\n",
    "        return np.zeros((1, n))\n",
    "    \n",
    "    if n==1:\n",
    "        return np.asarray([m])\n",
    "    \n",
    "    all_rest = []\n",
    "    for i in range(m+1):\n",
    "        rest = ballsINTObins(m-i, n-1)\n",
    "        all_rest.append(np.c_[np.ones(rest.shape[0])*i, rest])\n",
    "    \n",
    "    result = np.concatenate(all_rest, axis=0)\n",
    "    return result\n",
    "\n",
    "\n",
    "\n",
    "class Parameters:\n",
    "    def __init__(self, air_trans_file, air_RI, atm_dist_ratio, basis_func_file,\n",
    "                 num_substances, spectra_file, substances_emit_file):\n",
    "        self.air_trans_file = air_trans_file\n",
    "        self.air_RI = air_RI\n",
    "        self.atm_dist_ratio = atm_dist_ratio\n",
    "        self.basis_func_file = basis_func_file\n",
    "        self.num_substances = num_substances\n",
    "        self.spectra_file = spectra_file\n",
    "        self.substances_emit_file = substances_emit_file\n",
    "        \n",
    "        \n",
    "        \n",
    "def RMSELoss(predict, target):\n",
    "    return torch.sqrt(torch.mean((predict-target)**2))"
   ]
  },
  {
   "cell_type": "code",
   "execution_count": 3,
   "id": "2b33ec51",
   "metadata": {
    "code_folding": []
   },
   "outputs": [
    {
     "ename": "TypeError",
     "evalue": "simulator() takes 2 positional arguments but 7 were given",
     "output_type": "error",
     "traceback": [
      "\u001b[0;31m---------------------------------------------------------------------------\u001b[0m",
      "\u001b[0;31mTypeError\u001b[0m                                 Traceback (most recent call last)",
      "\u001b[1;32m/Users/lj/Library/Mobile Documents/com~apple~CloudDocs/Developer/microbolometer_design/pipeline_demo.ipynb Cell 4\u001b[0m in \u001b[0;36m<cell line: 34>\u001b[0;34m()\u001b[0m\n\u001b[1;32m     <a href='vscode-notebook-cell:/Users/lj/Library/Mobile%20Documents/com~apple~CloudDocs/Developer/microbolometer_design/pipeline_demo.ipynb#W3sZmlsZQ%3D%3D?line=35'>36</a>\u001b[0m mat_em \u001b[39m=\u001b[39m np\u001b[39m.\u001b[39maverage(substances_emit, weights\u001b[39m=\u001b[39mweights, axis\u001b[39m=\u001b[39m\u001b[39m1\u001b[39m)\n\u001b[1;32m     <a href='vscode-notebook-cell:/Users/lj/Library/Mobile%20Documents/com~apple~CloudDocs/Developer/microbolometer_design/pipeline_demo.ipynb#W3sZmlsZQ%3D%3D?line=36'>37</a>\u001b[0m mat_em \u001b[39m=\u001b[39m np\u001b[39m.\u001b[39mexpand_dims(mat_em, \u001b[39m1\u001b[39m)\n\u001b[0;32m---> <a href='vscode-notebook-cell:/Users/lj/Library/Mobile%20Documents/com~apple~CloudDocs/Developer/microbolometer_design/pipeline_demo.ipynb#W3sZmlsZQ%3D%3D?line=37'>38</a>\u001b[0m out \u001b[39m=\u001b[39m simulator(spectra, mat_em, temp_K, air_trans, atm_dist_ratio, air_RI, basis_funcs)\n\u001b[1;32m     <a href='vscode-notebook-cell:/Users/lj/Library/Mobile%20Documents/com~apple~CloudDocs/Developer/microbolometer_design/pipeline_demo.ipynb#W3sZmlsZQ%3D%3D?line=38'>39</a>\u001b[0m data\u001b[39m.\u001b[39mappend(out)\n\u001b[1;32m     <a href='vscode-notebook-cell:/Users/lj/Library/Mobile%20Documents/com~apple~CloudDocs/Developer/microbolometer_design/pipeline_demo.ipynb#W3sZmlsZQ%3D%3D?line=39'>40</a>\u001b[0m labels\u001b[39m.\u001b[39mappend(weights)\n",
      "\u001b[0;31mTypeError\u001b[0m: simulator() takes 2 positional arguments but 7 were given"
     ]
    }
   ],
   "source": [
    "# Simulation parameters\n",
    "   \n",
    "sim_params = Parameters(air_trans_file='./data/Test 2 - 21 Substances/Air transmittance.xlsx',\n",
    "                        air_RI=1,\n",
    "                        atm_dist_ratio=0.11,\n",
    "                        basis_func_file='./data/Test 2 - 21 Substances/Basis functions.xlsx',\n",
    "                        num_substances=6,\n",
    "                        spectra_file='./data/Test 2 - 21 Substances/spectra.xlsx',\n",
    "                        substances_emit_file='./data/Test 2 - 21 Substances/substances.xlsx')\n",
    "\n",
    "\n",
    "# Enviroment related parameters\n",
    "temp_K = 293.15 # Environmental temperature in K\n",
    "air_trans = np.array(pd.read_excel(sim_params.air_trans_file, header=None))\n",
    "air_trans = air_trans[:, 1:]\n",
    "atm_dist_ratio = sim_params.atm_dist_ratio # Atomsphere distance ratio\n",
    "air_RI = sim_params.air_RI # Refractive index of air\n",
    "\n",
    "# Sensor related parameters\n",
    "basis_funcs = np.array(pd.read_excel(sim_params.basis_func_file, header=None))\n",
    "basis_funcs = basis_funcs[:, 1:]\n",
    "\n",
    "# Substance related parameters\n",
    "num_substances = sim_params.num_substances\n",
    "spectra = np.array(pd.read_excel(sim_params.spectra_file, header=None))\n",
    "substances_emit = np.array(pd.read_excel(sim_params.substances_emit_file, header=None))\n",
    "substances_emit = substances_emit[:, 0:sim_params.num_substances]\n",
    "# Material mixture proportion\n",
    "mat_proportion = ballsINTObins(10, sim_params.num_substances).transpose() / 10\n",
    "# mat_proportion = np.array(pd.read_excel('./data/Test 2 - 21 Substances/proportion_NN_test.xlsx', header=None))\n",
    "\n",
    "data = []\n",
    "labels = []\n",
    "for i in range(mat_proportion.shape[1]):\n",
    "    weights = mat_proportion[:, i]\n",
    "    mat_em = np.average(substances_emit, weights=weights, axis=1)\n",
    "    mat_em = np.expand_dims(mat_em, 1)\n",
    "    out = simulator(spectra, mat_em, temp_K, air_trans, atm_dist_ratio, air_RI, basis_funcs)\n",
    "    data.append(out)\n",
    "    labels.append(weights)\n"
   ]
  },
  {
   "cell_type": "code",
   "execution_count": 10,
   "id": "c6d7e4c6",
   "metadata": {
    "code_folding": []
   },
   "outputs": [],
   "source": [
    "# Training parameters\n",
    "\n",
    "\n",
    "dataset = Dataset(data, labels)\n",
    "\n",
    "batch_size = len(data) // 10\n",
    "\n",
    "train_percentage = 0.8\n",
    "train_size = int(train_percentage * len(data))\n",
    "test_size = len(dataset) - train_size\n",
    "torch.manual_seed(28)\n",
    "train_dataset, test_dataset = torch.utils.data.random_split(dataset, [train_size, test_size])\n",
    "train_loader = DataLoader(train_dataset, batch_size=batch_size, shuffle=True)\n",
    "test_loader = DataLoader(test_dataset, batch_size=1, shuffle=False)\n",
    "\n",
    "criterions = [nn.L1Loss(), RMSELoss, nn.MSELoss()]\n",
    "\n",
    "learning_rate = 1e-3\n",
    "\n",
    "num_epochs = 100\n",
    "\n",
    "# device = torch.device(\"cuda:0\" if torch.cuda.is_available() else \"cpu\")\n",
    "# device = torch.device(\"mps\")\n",
    "device = torch.device(\"cpu\")\n",
    "\n",
    "k = 5\n",
    "kfold = KFold(n_splits=k, shuffle=True)\n"
   ]
  },
  {
   "cell_type": "code",
   "execution_count": 11,
   "id": "d65a4ccf",
   "metadata": {
    "code_folding": [],
    "scrolled": false
   },
   "outputs": [
    {
     "name": "stdout",
     "output_type": "stream",
     "text": [
      "\n",
      "FOLD 1\n"
     ]
    },
    {
     "data": {
      "application/vnd.jupyter.widget-view+json": {
       "model_id": "8715f06e2ecc469882f328fc15083740",
       "version_major": 2,
       "version_minor": 0
      },
      "text/plain": [
       "  0%|          | 0/100 [00:00<?, ?it/s]"
      ]
     },
     "metadata": {},
     "output_type": "display_data"
    },
    {
     "name": "stdout",
     "output_type": "stream",
     "text": [
      "\n",
      "FOLD 2\n"
     ]
    },
    {
     "data": {
      "application/vnd.jupyter.widget-view+json": {
       "model_id": "c32bfc05a2a24926963bb88688be6f5e",
       "version_major": 2,
       "version_minor": 0
      },
      "text/plain": [
       "  0%|          | 0/100 [00:00<?, ?it/s]"
      ]
     },
     "metadata": {},
     "output_type": "display_data"
    },
    {
     "name": "stdout",
     "output_type": "stream",
     "text": [
      "\n",
      "FOLD 3\n"
     ]
    },
    {
     "data": {
      "application/vnd.jupyter.widget-view+json": {
       "model_id": "60fffda93dc346cdb7ba46ed89b1587e",
       "version_major": 2,
       "version_minor": 0
      },
      "text/plain": [
       "  0%|          | 0/100 [00:00<?, ?it/s]"
      ]
     },
     "metadata": {},
     "output_type": "display_data"
    },
    {
     "name": "stdout",
     "output_type": "stream",
     "text": [
      "\n",
      "FOLD 4\n"
     ]
    },
    {
     "data": {
      "application/vnd.jupyter.widget-view+json": {
       "model_id": "d893a53fe9e942fd8d487cd0ee0215b9",
       "version_major": 2,
       "version_minor": 0
      },
      "text/plain": [
       "  0%|          | 0/100 [00:00<?, ?it/s]"
      ]
     },
     "metadata": {},
     "output_type": "display_data"
    },
    {
     "name": "stdout",
     "output_type": "stream",
     "text": [
      "\n",
      "FOLD 5\n"
     ]
    },
    {
     "data": {
      "application/vnd.jupyter.widget-view+json": {
       "model_id": "938ae985f44b44c8bb847d0e4c7cb4b4",
       "version_major": 2,
       "version_minor": 0
      },
      "text/plain": [
       "  0%|          | 0/100 [00:00<?, ?it/s]"
      ]
     },
     "metadata": {},
     "output_type": "display_data"
    }
   ],
   "source": [
    "# Train - k fold\n",
    "\n",
    "history = []\n",
    "models = []\n",
    "\n",
    "for fold, (train_ids, valid_ids) in enumerate(kfold.split(train_dataset)):\n",
    "    print(f'\\nFOLD {fold + 1}')\n",
    "#     print('--------------------------------')\n",
    "    train_subsampler = SubsetRandomSampler(train_ids)\n",
    "    valid_subsampler = SubsetRandomSampler(valid_ids)\n",
    "    train_loader = DataLoader(train_dataset, batch_size=batch_size, sampler=train_subsampler)\n",
    "    valid_loader = DataLoader(train_dataset, batch_size=batch_size, sampler=valid_subsampler)\n",
    "\n",
    "    model = MLP(num_in=basis_funcs.shape[1], num_out=sim_params.num_substances)\n",
    "    model.to(device)\n",
    "    optimizer = torch.optim.Adam(model.parameters(), lr=learning_rate)\n",
    "    \n",
    "    model_loss_records = {'train_loss': [], 'valid_loss': []}\n",
    "    for epoch in tqdm(range(num_epochs)):\n",
    "        train_loss = train_epoch(model, device, train_loader, criterions, optimizer)\n",
    "        valid_loss = valid_epoch(model, device, valid_loader, criterions)\n",
    "        \n",
    "        train_loss = train_loss / len(train_loader.sampler)\n",
    "        valid_loss = valid_loss / len(valid_loader.sampler)\n",
    "        \n",
    "        model_loss_records['train_loss'].append(train_loss)\n",
    "        model_loss_records['valid_loss'].append(valid_loss)\n",
    "        \n",
    "    model_loss_records['train_loss'] = np.asarray(model_loss_records['train_loss'])\n",
    "    model_loss_records['valid_loss'] = np.asarray(model_loss_records['valid_loss'])\n",
    "    history.append(model_loss_records)\n",
    "    models.append(model)\n",
    "        \n",
    "#         print(\"Epoch:{}/{} AVG Training Loss:{:.3f} AVG Valid Loss:{:.3f} \".format(epoch + 1,\n",
    "#                                                                                    num_epochs,\n",
    "#                                                                                    train_loss,\n",
    "#                                                                                    valid_loss))\n"
   ]
  },
  {
   "cell_type": "code",
   "execution_count": 12,
   "id": "81682f2c",
   "metadata": {
    "code_folding": [
     0
    ],
    "scrolled": false
   },
   "outputs": [
    {
     "data": {
      "application/vnd.jupyter.widget-view+json": {
       "model_id": "59cb94c240ca4c6faebf16da06a1ba80",
       "version_major": 2,
       "version_minor": 0
      },
      "text/plain": [
       "  0%|          | 0/100 [00:00<?, ?it/s]"
      ]
     },
     "metadata": {},
     "output_type": "display_data"
    },
    {
     "ename": "KeyboardInterrupt",
     "evalue": "",
     "output_type": "error",
     "traceback": [
      "\u001b[0;31m---------------------------------------------------------------------------\u001b[0m",
      "\u001b[0;31mKeyboardInterrupt\u001b[0m                         Traceback (most recent call last)",
      "Input \u001b[0;32mIn [12]\u001b[0m, in \u001b[0;36m<cell line: 16>\u001b[0;34m()\u001b[0m\n\u001b[1;32m     19\u001b[0m pred_loader \u001b[38;5;241m=\u001b[39m DataLoader(dataset, batch_size\u001b[38;5;241m=\u001b[39m\u001b[38;5;241m1\u001b[39m, shuffle\u001b[38;5;241m=\u001b[39m\u001b[38;5;28;01mTrue\u001b[39;00m)\n\u001b[1;32m     20\u001b[0m pred_loader_iter \u001b[38;5;241m=\u001b[39m \u001b[38;5;28miter\u001b[39m(pred_loader)\n\u001b[0;32m---> 22\u001b[0m \u001b[38;5;28;01mfor\u001b[39;00m x, target \u001b[38;5;129;01min\u001b[39;00m target_loader:\n\u001b[1;32m     24\u001b[0m     xx, pred \u001b[38;5;241m=\u001b[39m \u001b[38;5;28mnext\u001b[39m(pred_loader_iter)\n\u001b[1;32m     26\u001b[0m     MSE\u001b[38;5;241m.\u001b[39mappend(mseloss(pred, target)\u001b[38;5;241m.\u001b[39mitem())\n",
      "File \u001b[0;32m/opt/homebrew/Caskroom/miniforge/base/envs/nn/lib/python3.9/site-packages/torch/utils/data/dataloader.py:628\u001b[0m, in \u001b[0;36m_BaseDataLoaderIter.__next__\u001b[0;34m(self)\u001b[0m\n\u001b[1;32m    625\u001b[0m \u001b[38;5;28;01mif\u001b[39;00m \u001b[38;5;28mself\u001b[39m\u001b[38;5;241m.\u001b[39m_sampler_iter \u001b[38;5;129;01mis\u001b[39;00m \u001b[38;5;28;01mNone\u001b[39;00m:\n\u001b[1;32m    626\u001b[0m     \u001b[38;5;66;03m# TODO(https://github.com/pytorch/pytorch/issues/76750)\u001b[39;00m\n\u001b[1;32m    627\u001b[0m     \u001b[38;5;28mself\u001b[39m\u001b[38;5;241m.\u001b[39m_reset()  \u001b[38;5;66;03m# type: ignore[call-arg]\u001b[39;00m\n\u001b[0;32m--> 628\u001b[0m data \u001b[38;5;241m=\u001b[39m \u001b[38;5;28;43mself\u001b[39;49m\u001b[38;5;241;43m.\u001b[39;49m\u001b[43m_next_data\u001b[49m\u001b[43m(\u001b[49m\u001b[43m)\u001b[49m\n\u001b[1;32m    629\u001b[0m \u001b[38;5;28mself\u001b[39m\u001b[38;5;241m.\u001b[39m_num_yielded \u001b[38;5;241m+\u001b[39m\u001b[38;5;241m=\u001b[39m \u001b[38;5;241m1\u001b[39m\n\u001b[1;32m    630\u001b[0m \u001b[38;5;28;01mif\u001b[39;00m \u001b[38;5;28mself\u001b[39m\u001b[38;5;241m.\u001b[39m_dataset_kind \u001b[38;5;241m==\u001b[39m _DatasetKind\u001b[38;5;241m.\u001b[39mIterable \u001b[38;5;129;01mand\u001b[39;00m \\\n\u001b[1;32m    631\u001b[0m         \u001b[38;5;28mself\u001b[39m\u001b[38;5;241m.\u001b[39m_IterableDataset_len_called \u001b[38;5;129;01mis\u001b[39;00m \u001b[38;5;129;01mnot\u001b[39;00m \u001b[38;5;28;01mNone\u001b[39;00m \u001b[38;5;129;01mand\u001b[39;00m \\\n\u001b[1;32m    632\u001b[0m         \u001b[38;5;28mself\u001b[39m\u001b[38;5;241m.\u001b[39m_num_yielded \u001b[38;5;241m>\u001b[39m \u001b[38;5;28mself\u001b[39m\u001b[38;5;241m.\u001b[39m_IterableDataset_len_called:\n",
      "File \u001b[0;32m/opt/homebrew/Caskroom/miniforge/base/envs/nn/lib/python3.9/site-packages/torch/utils/data/dataloader.py:671\u001b[0m, in \u001b[0;36m_SingleProcessDataLoaderIter._next_data\u001b[0;34m(self)\u001b[0m\n\u001b[1;32m    669\u001b[0m \u001b[38;5;28;01mdef\u001b[39;00m \u001b[38;5;21m_next_data\u001b[39m(\u001b[38;5;28mself\u001b[39m):\n\u001b[1;32m    670\u001b[0m     index \u001b[38;5;241m=\u001b[39m \u001b[38;5;28mself\u001b[39m\u001b[38;5;241m.\u001b[39m_next_index()  \u001b[38;5;66;03m# may raise StopIteration\u001b[39;00m\n\u001b[0;32m--> 671\u001b[0m     data \u001b[38;5;241m=\u001b[39m \u001b[38;5;28;43mself\u001b[39;49m\u001b[38;5;241;43m.\u001b[39;49m\u001b[43m_dataset_fetcher\u001b[49m\u001b[38;5;241;43m.\u001b[39;49m\u001b[43mfetch\u001b[49m\u001b[43m(\u001b[49m\u001b[43mindex\u001b[49m\u001b[43m)\u001b[49m  \u001b[38;5;66;03m# may raise StopIteration\u001b[39;00m\n\u001b[1;32m    672\u001b[0m     \u001b[38;5;28;01mif\u001b[39;00m \u001b[38;5;28mself\u001b[39m\u001b[38;5;241m.\u001b[39m_pin_memory:\n\u001b[1;32m    673\u001b[0m         data \u001b[38;5;241m=\u001b[39m _utils\u001b[38;5;241m.\u001b[39mpin_memory\u001b[38;5;241m.\u001b[39mpin_memory(data, \u001b[38;5;28mself\u001b[39m\u001b[38;5;241m.\u001b[39m_pin_memory_device)\n",
      "File \u001b[0;32m/opt/homebrew/Caskroom/miniforge/base/envs/nn/lib/python3.9/site-packages/torch/utils/data/_utils/fetch.py:58\u001b[0m, in \u001b[0;36m_MapDatasetFetcher.fetch\u001b[0;34m(self, possibly_batched_index)\u001b[0m\n\u001b[1;32m     56\u001b[0m         data \u001b[38;5;241m=\u001b[39m \u001b[38;5;28mself\u001b[39m\u001b[38;5;241m.\u001b[39mdataset\u001b[38;5;241m.\u001b[39m__getitems__(possibly_batched_index)\n\u001b[1;32m     57\u001b[0m     \u001b[38;5;28;01melse\u001b[39;00m:\n\u001b[0;32m---> 58\u001b[0m         data \u001b[38;5;241m=\u001b[39m [\u001b[38;5;28mself\u001b[39m\u001b[38;5;241m.\u001b[39mdataset[idx] \u001b[38;5;28;01mfor\u001b[39;00m idx \u001b[38;5;129;01min\u001b[39;00m possibly_batched_index]\n\u001b[1;32m     59\u001b[0m \u001b[38;5;28;01melse\u001b[39;00m:\n\u001b[1;32m     60\u001b[0m     data \u001b[38;5;241m=\u001b[39m \u001b[38;5;28mself\u001b[39m\u001b[38;5;241m.\u001b[39mdataset[possibly_batched_index]\n",
      "\u001b[0;31mKeyboardInterrupt\u001b[0m: "
     ]
    }
   ],
   "source": [
    "# Base line\n",
    "\n",
    "epoch = 100\n",
    "\n",
    "MSE = []\n",
    "avg_MSE = []\n",
    "RMSE = []\n",
    "avg_RMSE = []\n",
    "L1Loss = []\n",
    "avg_L1Loss = []\n",
    "\n",
    "\n",
    "mseloss = nn.MSELoss()\n",
    "l1loss = nn.L1Loss()\n",
    "\n",
    "for i in tqdm(range(epoch)):\n",
    "    \n",
    "    target_loader = DataLoader(dataset, batch_size=1, shuffle=True)\n",
    "    pred_loader = DataLoader(dataset, batch_size=1, shuffle=True)\n",
    "    pred_loader_iter = iter(pred_loader)\n",
    "\n",
    "    for x, target in target_loader:\n",
    "\n",
    "        xx, pred = next(pred_loader_iter)\n",
    "\n",
    "        MSE.append(mseloss(pred, target).item())\n",
    "        RMSE.append(RMSELoss(pred, target).item())\n",
    "        L1Loss.append(l1loss(pred, target).item())\n",
    "        \n",
    "    avg_MSE.append(np.mean(MSE))\n",
    "    avg_RMSE.append(np.mean(RMSE))\n",
    "    avg_L1Loss.append(np.mean(L1Loss))\n",
    "\n",
    "print(avg_MSE[-1])\n",
    "print(avg_RMSE[-1])\n",
    "print(avg_L1Loss[-1])\n",
    "\n",
    "plt.plot(avg_MSE)\n",
    "plt.plot(avg_RMSE)\n",
    "plt.plot(avg_L1Loss)\n",
    "\n",
    "plt.legend(['avg_MSE', 'avg_RMSE', 'avg_L1Loss'])\n"
   ]
  },
  {
   "cell_type": "code",
   "execution_count": null,
   "id": "d56d106c",
   "metadata": {
    "code_folding": [
     0
    ],
    "scrolled": false
   },
   "outputs": [],
   "source": [
    "# Plot k fold\n",
    "fig, axs = plt.subplots(k, figsize=(6, 11))\n",
    "fig.tight_layout(pad=3)\n",
    "# np.set_printoptions(formatter={'float': '{: 0.2f}'.format})\n",
    "loss = []\n",
    "loss_func_index = 0\n",
    "base_line_loss = [avg_L1Loss[-1], avg_RMSE[-1], avg_MSE[-1]]\n",
    "base_line_names = ['L1', 'RMSE', 'MSE']\n",
    "# avg_loss = 0\n",
    "for i in range (5):\n",
    "    axs[i].plot(history[i]['train_loss'][:, loss_func_index])\n",
    "    axs[i].plot(history[i]['valid_loss'][:, loss_func_index])\n",
    "    axs[i].axhline(base_line_loss[loss_func_index], color='r')\n",
    "    \n",
    "    axs[i].set_ylim(bottom=0)\n",
    "    axs[i].set_xlabel('Epoch')\n",
    "    axs[i].set_ylabel(base_line_names[loss_func_index])\n",
    "    \n",
    "    axs[i].legend(['train loss', 'valid loss', 'base line'], \n",
    "                  title=f'Last Loss: {\"{:0.3e}\".format(history[i][\"valid_loss\"][:, loss_func_index][-1])}')\n",
    "    \n",
    "    axs[i].set_title('Fold' + str(i))\n",
    "    \n",
    "    loss.append(history[i][\"valid_loss\"][:, loss_func_index][-1])\n",
    "    \n",
    "    \n",
    "#     avg_loss += history[i][\"valid_loss\"][-1]\n",
    "    \n",
    "avg_loss = np.mean(loss)\n",
    "best_loss = np.min(loss)\n",
    "best_model_index = np.argmin(loss)\n",
    "\n",
    "print(\"avg loss =\", avg_loss)\n",
    "print(\"best loss =\", best_loss)\n",
    "print(\"best model index =\", best_model_index)"
   ]
  },
  {
   "cell_type": "code",
   "execution_count": 10,
   "id": "a31286c3",
   "metadata": {
    "code_folding": [],
    "scrolled": false
   },
   "outputs": [
    {
     "name": "stdout",
     "output_type": "stream",
     "text": [
      "[59.50065803 72.46823198 10.33066579]\n",
      "Target:  [[ 0.20  0.20  0.00  0.10  0.50  0.00]]\n",
      "Predict: [[ 0.08  0.10  0.12  0.25  0.25  0.22]] \n",
      "\n",
      "Target:  [[ 0.50  0.00  0.50  0.00  0.00  0.00]]\n",
      "Predict: [[ 0.57  0.07  0.35  0.02  0.02  0.05]] \n",
      "\n",
      "Target:  [[ 0.00  0.30  0.20  0.00  0.10  0.40]]\n",
      "Predict: [[ 0.06  0.37  0.13  0.12  0.13  0.16]] \n",
      "\n",
      "Target:  [[ 0.20  0.30  0.00  0.10  0.30  0.10]]\n",
      "Predict: [[ 0.08  0.18  0.15  0.18  0.18  0.20]] \n",
      "\n",
      "Target:  [[ 0.20  0.20  0.10  0.00  0.20  0.30]]\n",
      "Predict: [[ 0.11  0.14  0.22  0.16  0.14  0.19]] \n",
      "\n",
      "Target:  [[ 0.10  0.20  0.10  0.00  0.40  0.20]]\n",
      "Predict: [[ 0.07  0.17  0.13  0.20  0.21  0.21]] \n",
      "\n",
      "Target:  [[ 0.00  0.10  0.30  0.10  0.50  0.00]]\n",
      "Predict: [[ 0.07  0.15  0.13  0.20  0.21  0.21]] \n",
      "\n",
      "Target:  [[ 0.10  0.30  0.00  0.50  0.00  0.10]]\n",
      "Predict: [[ 0.06  0.21  0.09  0.21  0.23  0.21]] \n",
      "\n",
      "Target:  [[ 0.30  0.20  0.40  0.00  0.00  0.10]]\n",
      "Predict: [[ 0.25  0.15  0.56  0.04  0.03  0.10]] \n",
      "\n",
      "Target:  [[ 0.20  0.40  0.10  0.00  0.00  0.30]]\n",
      "Predict: [[ 0.09  0.32  0.26  0.08  0.08  0.13]] \n",
      "\n",
      "0.09938593464371072\n"
     ]
    },
    {
     "data": {
      "image/png": "[encoded data removed]",
      "text/plain": [
       "<Figure size 432x288 with 1 Axes>"
      ]
     },
     "metadata": {
      "needs_background": "light"
     },
     "output_type": "display_data"
    }
   ],
   "source": [
    "# Plot k fold test result\n",
    "\n",
    "criterions = [nn.L1Loss(reduction='mean'), RMSELoss, nn.MSELoss()]\n",
    "\n",
    "model = models[best_model_index]\n",
    "test_loss, pred_list, targ_list = test_epoch(model, device, test_loader, criterions)\n",
    "\n",
    "print(test_loss)\n",
    "\n",
    "loss_func_index = 0\n",
    "base_line_loss = [avg_L1Loss[-1], avg_RMSE[-1], avg_MSE[-1]]\n",
    "\n",
    "test_loss = test_loss / len(test_dataset)\n",
    "\n",
    "fig, ax = plt.subplots(figsize=(6, 4))\n",
    "ax.plot(history[best_model_index]['train_loss'][:, loss_func_index])\n",
    "ax.plot(history[best_model_index]['valid_loss'][:, loss_func_index])\n",
    "\n",
    "ax.axhline(base_line_loss[loss_func_index], color='r')\n",
    "ax.axhline(y=test_loss[loss_func_index], color='g')\n",
    "    \n",
    "# ax.plot(avg_RMSE)\n",
    "# ax.plot(avg_L1Loss)\n",
    "\n",
    "ax.set_ylim(bottom=0)\n",
    "ax.set_xlabel('Epoch')\n",
    "ax.set_ylabel(base_line_names[loss_func_index])\n",
    "ax.legend(['train loss', 'valid loss', 'base line', 'test loss'], \n",
    "          title=f'Last Loss: {\"{:0.3e}\".format(history[best_model_index][\"valid_loss\"][:, loss_func_index][-1])}')\n",
    "\n",
    "np.set_printoptions(formatter={'float': '{: 0.2f}'.format})\n",
    "for i in range(10):\n",
    "    print('Target: ', targ_list[i])\n",
    "    print('Predict:', pred_list[i], '\\n')\n",
    "print(loss[loss_func_index])"
   ]
  },
  {
   "cell_type": "code",
   "execution_count": 11,
   "id": "d24c08f8",
   "metadata": {},
   "outputs": [],
   "source": [
    "from torch.autograd import Variable"
   ]
  }
 ],
 "metadata": {
  "kernelspec": {
   "display_name": "Python 3 (ipykernel)",
   "language": "python",
   "name": "python3"
  },
  "language_info": {
   "codemirror_mode": {
    "name": "ipython",
    "version": 3
   },
   "file_extension": ".py",
   "mimetype": "text/x-python",
   "name": "python",
   "nbconvert_exporter": "python",
   "pygments_lexer": "ipython3",
   "version": "3.9.15"
  },
  "vscode": {
   "interpreter": {
    "hash": "c425d01e3fe884931333939e0ad7960b908645cf1ab99418b036767927303f60"
   }
  }
 },
 "nbformat": 4,
 "nbformat_minor": 5
}
