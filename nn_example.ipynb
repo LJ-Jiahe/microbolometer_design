{
 "cells": [
  {
   "cell_type": "code",
   "execution_count": 133,
   "id": "19d7364b",
   "metadata": {},
   "outputs": [],
   "source": [
    "import torch\n",
    "import torch.nn as nn\n",
    "import torch.nn.functional as F\n",
    "import numpy as np\n",
    "import matplotlib.pyplot as plt\n",
    "import time"
   ]
  },
  {
   "cell_type": "code",
   "execution_count": 28,
   "id": "2f2cf0ac",
   "metadata": {},
   "outputs": [],
   "source": [
    "class MLP(nn.Module):\n",
    "\n",
    "    def __init__(self):\n",
    "        super(MLP, self).__init__()\n",
    "        self.fc1 = nn.Linear(16, 32)\n",
    "        self.fc2 = nn.Linear(32, 32)\n",
    "        self.fc3 = nn.Linear(32, 6)\n",
    "\n",
    "    def forward(self, x):\n",
    "        x = F.relu(self.fc1(x))\n",
    "        x = F.relu(self.fc2(x))\n",
    "        x = torch.sigmoid(self.fc3(x))\n",
    "        return x"
   ]
  },
  {
   "cell_type": "code",
   "execution_count": 124,
   "id": "7aae3cb4",
   "metadata": {},
   "outputs": [],
   "source": [
    "x = np.genfromtxt('./data/nn_example_testdata1.csv', delimiter=\",\")\n",
    "x_train = torch.FloatTensor(x)\n",
    "\n",
    "y = np.asarray([\"Methane\", \"n-Butane\", \"Propane\", \"CO2\", \"CO\", \"SF6\"])\n",
    "y_train_one_hot = np.eye(len(y))\n",
    "y_train_one_hot = torch.FloatTensor(y_train_one_hot)"
   ]
  },
  {
   "cell_type": "code",
   "execution_count": 117,
   "id": "fff1fac7",
   "metadata": {},
   "outputs": [
    {
     "data": {
      "image/png": "[encoded data removed]",
      "text/plain": [
       "<Figure size 640x480 with 1 Axes>"
      ]
     },
     "metadata": {},
     "output_type": "display_data"
    }
   ],
   "source": [
    "model = MLP()\n",
    "criterion = torch.nn.BCELoss()\n",
    "optimizer = torch.optim.SGD(model.parameters(), lr = 0.001)\n",
    "model.train()\n",
    "epoch = 10000\n",
    "loss_all = []\n",
    "for ep in range(epoch):\n",
    "    optimizer.zero_grad()\n",
    "    # Forward pass\n",
    "    y_pred = model(x_train)\n",
    "    # Compute Loss\n",
    "    loss = criterion(y_pred.squeeze(), y_train_one_hot)\n",
    "    loss_all.append(loss.item())\n",
    "#     if epoch % 1000 == 0:\n",
    "#         print('Epoch {}: train loss: {}'.format(epoch, loss.item()))\n",
    "    # Backward pass\n",
    "    loss.backward()\n",
    "    optimizer.step()\n",
    "\n",
    "\n",
    "plt.plot(loss_all)\n",
    "plt.show()"
   ]
  },
  {
   "cell_type": "code",
   "execution_count": 118,
   "id": "ecf94ebd",
   "metadata": {},
   "outputs": [
    {
     "name": "stdout",
     "output_type": "stream",
     "text": [
      "tensor([[9.6791e-01, 6.3301e-03, 2.5187e-03, 1.5687e-03, 1.4736e-04, 8.7065e-07],\n",
      "        [2.1071e-02, 6.7657e-01, 3.9597e-01, 1.9469e-06, 2.1849e-03, 8.3578e-06],\n",
      "        [6.1180e-03, 2.2019e-01, 5.8253e-01, 2.4659e-06, 1.1550e-02, 1.6324e-05],\n",
      "        [6.5427e-03, 2.6089e-13, 4.1572e-06, 9.9495e-01, 6.7524e-03, 3.6018e-03],\n",
      "        [1.4363e-04, 9.1301e-08, 3.1686e-02, 1.4130e-04, 9.8049e-01, 1.0324e-03],\n",
      "        [6.6320e-06, 2.0755e-11, 1.5050e-04, 6.2442e-03, 3.0751e-03, 9.9471e-01]],\n",
      "       grad_fn=<SigmoidBackward>)\n",
      "[[1. 0. 0. 0. 0. 0.]\n",
      " [0. 1. 0. 0. 0. 0.]\n",
      " [0. 0. 1. 0. 0. 0.]\n",
      " [0. 0. 0. 1. 0. 0.]\n",
      " [0. 0. 0. 0. 1. 0.]\n",
      " [0. 0. 0. 0. 0. 1.]]\n"
     ]
    }
   ],
   "source": [
    "model.eval()\n",
    "y_pred = model(x_train)\n",
    "print(y_pred)\n",
    "y_pred = y_pred.detach().numpy()\n",
    "\n",
    "y_pred_one_hot = np.zeros(y_pred.shape)  # our zeros and ones will go here\n",
    "y_pred_one_hot[np.arange(y_pred.shape[0]), np.argmax(y_pred, axis=1)] = 1\n",
    "print(y_pred_one_hot)"
   ]
  },
  {
   "cell_type": "code",
   "execution_count": null,
   "id": "8a0509ce",
   "metadata": {},
   "outputs": [
    {
     "name": "stdout",
     "output_type": "stream",
     "text": [
      "Pick a substance from below.\n",
      " 1. Methane\n",
      " 2. n-Butane\n",
      " 3. Propane\n",
      " 4. CO2\n",
      " 5. CO\n",
      " 6. SF6\n",
      "\n",
      "3\n",
      "The signature of Propane is\n",
      "[ 11.7  48.6 106.  156.  182.  226.  245.  244.  241.  234.  221.  210.\n",
      " 199.  188.  175.  162. ]\n",
      "feeding to classifier...\n",
      "The substance is ['Propane'] \n",
      "\n",
      "\n",
      "Pick a substance from below.\n",
      " 1. Methane\n",
      " 2. n-Butane\n",
      " 3. Propane\n",
      " 4. CO2\n",
      " 5. CO\n",
      " 6. SF6\n",
      "\n",
      "1\n",
      "The signature of Methane is\n",
      "[ 14.6  57.8 123.  185.  219.  240.  275.  283.  278.  268.  254.  239.\n",
      " 222.  206.  190.  174. ]\n",
      "feeding to classifier...\n",
      "The substance is ['Methane'] \n",
      "\n",
      "\n",
      "Pick a substance from below.\n",
      " 1. Methane\n",
      " 2. n-Butane\n",
      " 3. Propane\n",
      " 4. CO2\n",
      " 5. CO\n",
      " 6. SF6\n",
      "\n",
      "6\n",
      "The signature of SF6 is\n",
      "[ 14.6  59.1 126.  191.  241.  271.  280.  267.  255.  256.  245.  228.\n",
      " 204.  172.  137.  101. ]\n",
      "feeding to classifier...\n",
      "The substance is ['SF6'] \n",
      "\n",
      "\n"
     ]
    }
   ],
   "source": [
    "while(True):\n",
    "    sub = input(\"Pick a substance from below.\\n 1. Methane\\n 2. n-Butane\\n 3. Propane\\n 4. CO2\\n 5. CO\\n 6. SF6\\n\\n\")\n",
    "    print(\"The signature of\", y[int(sub)-1], \"is\")\n",
    "    print(x[int(sub)-1, :])\n",
    "    \n",
    "    time.sleep(2)\n",
    "    \n",
    "    print(\"feeding to classifier...\")\n",
    "    y_pred = model(x_train[int(sub)-1:int(sub), :])\n",
    "    y_pred = y_pred.detach().numpy()\n",
    "    sub_ind = np.argmax(y_pred, axis=1)\n",
    "    \n",
    "    time.sleep(2)\n",
    "    \n",
    "    print(\"The substance is\", y[sub_ind], '\\n\\n')\n",
    "    \n",
    "    time.sleep(3)"
   ]
  },
  {
   "cell_type": "code",
   "execution_count": null,
   "id": "53084921",
   "metadata": {},
   "outputs": [],
   "source": []
  },
  {
   "cell_type": "code",
   "execution_count": null,
   "id": "ab952b02",
   "metadata": {},
   "outputs": [],
   "source": []
  },
  {
   "cell_type": "code",
   "execution_count": null,
   "id": "d21b4175",
   "metadata": {},
   "outputs": [],
   "source": []
  },
  {
   "cell_type": "code",
   "execution_count": null,
   "id": "9509e123",
   "metadata": {},
   "outputs": [],
   "source": []
  },
  {
   "cell_type": "code",
   "execution_count": null,
   "id": "f185eca0",
   "metadata": {},
   "outputs": [],
   "source": []
  },
  {
   "cell_type": "code",
   "execution_count": null,
   "id": "30e67eb8",
   "metadata": {},
   "outputs": [],
   "source": []
  },
  {
   "cell_type": "code",
   "execution_count": null,
   "id": "01f1b0e8",
   "metadata": {},
   "outputs": [],
   "source": []
  },
  {
   "cell_type": "code",
   "execution_count": null,
   "id": "7a3644c7",
   "metadata": {},
   "outputs": [],
   "source": []
  },
  {
   "cell_type": "code",
   "execution_count": null,
   "id": "79d842c3",
   "metadata": {},
   "outputs": [],
   "source": []
  },
  {
   "cell_type": "code",
   "execution_count": null,
   "id": "2cc25ee6",
   "metadata": {},
   "outputs": [],
   "source": []
  },
  {
   "cell_type": "code",
   "execution_count": null,
   "id": "7e54cc89",
   "metadata": {},
   "outputs": [],
   "source": []
  },
  {
   "cell_type": "code",
   "execution_count": null,
   "id": "daff18f4",
   "metadata": {},
   "outputs": [],
   "source": []
  },
  {
   "cell_type": "code",
   "execution_count": null,
   "id": "bf7e68a0",
   "metadata": {},
   "outputs": [],
   "source": []
  },
  {
   "cell_type": "code",
   "execution_count": null,
   "id": "98b22610",
   "metadata": {},
   "outputs": [],
   "source": []
  },
  {
   "cell_type": "code",
   "execution_count": null,
   "id": "1ed32cf4",
   "metadata": {},
   "outputs": [],
   "source": []
  },
  {
   "cell_type": "code",
   "execution_count": null,
   "id": "df3c19d2",
   "metadata": {},
   "outputs": [],
   "source": []
  },
  {
   "cell_type": "code",
   "execution_count": null,
   "id": "2b585002",
   "metadata": {},
   "outputs": [],
   "source": []
  },
  {
   "cell_type": "code",
   "execution_count": null,
   "id": "340eeaba",
   "metadata": {},
   "outputs": [],
   "source": []
  }
 ],
 "metadata": {
  "kernelspec": {
   "display_name": "Python 3",
   "language": "python",
   "name": "python3"
  },
  "language_info": {
   "codemirror_mode": {
    "name": "ipython",
    "version": 3
   },
   "file_extension": ".py",
   "mimetype": "text/x-python",
   "name": "python",
   "nbconvert_exporter": "python",
   "pygments_lexer": "ipython3",
   "version": "3.8.11"
  }
 },
 "nbformat": 4,
 "nbformat_minor": 5
}
